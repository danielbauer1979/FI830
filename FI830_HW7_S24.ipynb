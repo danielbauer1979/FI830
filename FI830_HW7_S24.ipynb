{
  "nbformat": 4,
  "nbformat_minor": 0,
  "metadata": {
    "colab": {
      "provenance": [],
      "include_colab_link": true
    },
    "kernelspec": {
      "name": "python3",
      "display_name": "Python 3"
    },
    "language_info": {
      "name": "python"
    }
  },
  "cells": [
    {
      "cell_type": "markdown",
      "metadata": {
        "id": "view-in-github",
        "colab_type": "text"
      },
      "source": [
        "<a href=\"https://colab.research.google.com/github/danielbauer1979/FI830/blob/main/FI830_HW7_S24.ipynb\" target=\"_parent\"><img src=\"https://colab.research.google.com/assets/colab-badge.svg\" alt=\"Open In Colab\"/></a>"
      ]
    },
    {
      "cell_type": "code",
      "execution_count": null,
      "metadata": {
        "id": "9uektyPeE4m5"
      },
      "outputs": [],
      "source": [
        "!pip install yfinance\n",
        "!pip install QuantLib"
      ]
    },
    {
      "cell_type": "code",
      "source": [
        "import yfinance as yf\n",
        "import QuantLib as ql\n",
        "import numpy as np\n",
        "import statistics as st\n",
        "from scipy.optimize import newton\n",
        "from scipy.stats import multivariate_normal\n",
        "from scipy.stats import norm"
      ],
      "metadata": {
        "id": "T_Uiz8ExGWNv"
      },
      "execution_count": 2,
      "outputs": []
    },
    {
      "cell_type": "markdown",
      "source": [
        "## Part a Calibration \\& Estimation"
      ],
      "metadata": {
        "id": "isFYaNAm5di3"
      }
    },
    {
      "cell_type": "code",
      "source": [
        "# step 1: obtain S&P 500 and VIX data for the past two years\n",
        "sp500 = yf.download('^SPX', start='2022-04-17',end='2024-04-17')['Close'].values\n",
        "vix = yf.download('^VIX', start='2022-04-17',end='2024-04-17')['Close'].values/100\n",
        "vt = vix**2"
      ],
      "metadata": {
        "colab": {
          "base_uri": "https://localhost:8080/"
        },
        "id": "yh80smq8Gdcv",
        "outputId": "231032a2-114a-453d-b477-69a47bf4bc6c"
      },
      "execution_count": 3,
      "outputs": [
        {
          "output_type": "stream",
          "name": "stderr",
          "text": [
            "[*********************100%%**********************]  1 of 1 completed\n",
            "[*********************100%%**********************]  1 of 1 completed\n"
          ]
        }
      ]
    },
    {
      "cell_type": "code",
      "source": [
        "# asssume kappa=2.5, r from one-year constant maturity treasury rate\n",
        "kappa = 2.5; r = 0.0517; delta_t = 2/len(sp500)"
      ],
      "metadata": {
        "id": "YTvY0jruHXn7"
      },
      "execution_count": 4,
      "outputs": []
    },
    {
      "cell_type": "code",
      "source": [
        "# step 2: define a function for Xt where the parameters are theta and t\n",
        "def Xt(t,theta,kappa=kappa):\n",
        "  return ((vt[t+1]-vt[t])-kappa*(theta-vt[t])*delta_t)/(np.sqrt(vt[t])*np.sqrt(delta_t))\n",
        "def avgXt(theta,kappa=kappa):\n",
        "  Xarr = [Xt(t,theta,kappa) for t in range(len(vt)-1)]\n",
        "  return np.mean(Xarr)"
      ],
      "metadata": {
        "id": "FIRYOxE8G0j0"
      },
      "execution_count": 5,
      "outputs": []
    },
    {
      "cell_type": "code",
      "source": [
        "theta_hat = newton(lambda theta: avgXt(theta),1)\n",
        "theta_hat"
      ],
      "metadata": {
        "colab": {
          "base_uri": "https://localhost:8080/"
        },
        "id": "fQi_hmITIATp",
        "outputId": "cd77a79b-dd6e-4ab3-e5e8-f52d70816b92"
      },
      "execution_count": 6,
      "outputs": [
        {
          "output_type": "execute_result",
          "data": {
            "text/plain": [
              "0.04603961112024731"
            ]
          },
          "metadata": {},
          "execution_count": 6
        }
      ]
    },
    {
      "cell_type": "code",
      "source": [
        "# plug theta_hat into Xt function to get a list of Xt\n",
        "# use standard deviation of Xt list to get sigma_v\n",
        "Xt_arr = [Xt(t,theta_hat) for t in range(len(vt)-1)]\n",
        "sigma_v_hat = st.stdev(Xt_arr)\n",
        "sigma_v_hat"
      ],
      "metadata": {
        "colab": {
          "base_uri": "https://localhost:8080/"
        },
        "id": "qBCd5nngx4w0",
        "outputId": "83807a08-1022-435e-807e-03874f939841"
      },
      "execution_count": 7,
      "outputs": [
        {
          "output_type": "execute_result",
          "data": {
            "text/plain": [
              "0.4114518663812112"
            ]
          },
          "metadata": {},
          "execution_count": 7
        }
      ]
    },
    {
      "cell_type": "code",
      "source": [
        "# we know r, kappa, theta, sigma_v\n",
        "# also need mu, rho\n",
        "# repeat step 2 to get mu\n",
        "def Yt(t,mu):\n",
        "  return (sp500[t+1]-sp500[t]-sp500[t]*mu*delta_t)/(sp500[t]*np.sqrt(vt[t])*np.sqrt(delta_t))\n",
        "\n",
        "def avgYt(mu):\n",
        "  Yarr = [Yt(t,mu) for t in range(len(sp500)-1)]\n",
        "  return np.mean(Yarr)\n",
        "\n",
        "mu_hat = newton(lambda mu: avgYt(mu),1)\n",
        "mu_hat"
      ],
      "metadata": {
        "id": "BaqL1YMWXvkI",
        "colab": {
          "base_uri": "https://localhost:8080/"
        },
        "outputId": "ac9b0c64-ad92-4d9d-f589-2ded07567f04"
      },
      "execution_count": 8,
      "outputs": [
        {
          "output_type": "execute_result",
          "data": {
            "text/plain": [
              "0.09901852004284824"
            ]
          },
          "metadata": {},
          "execution_count": 8
        }
      ]
    },
    {
      "cell_type": "code",
      "source": [
        "# plug mu_hat into Yt and get a list of Yt\n",
        "Yt_arr = [Yt(t,mu_hat) for t in range(len(sp500)-1)]\n",
        "\n",
        "# remaining parameter to estimate: rho\n",
        "# calcuate the correlation between Xt and Yt\n",
        "rho_hat = np.corrcoef(Xt_arr,Yt_arr)[0,1]\n",
        "rho_hat"
      ],
      "metadata": {
        "colab": {
          "base_uri": "https://localhost:8080/"
        },
        "id": "llfPLvPYxOJx",
        "outputId": "857d6de0-19f5-40f5-9375-e1559643c9d0"
      },
      "execution_count": 9,
      "outputs": [
        {
          "output_type": "execute_result",
          "data": {
            "text/plain": [
              "-0.7184238679866422"
            ]
          },
          "metadata": {},
          "execution_count": 9
        }
      ]
    },
    {
      "cell_type": "markdown",
      "source": [
        "## Part b Heston Model (Analytical)"
      ],
      "metadata": {
        "id": "MQW01teKvrLx"
      }
    },
    {
      "cell_type": "code",
      "source": [
        "# Fetch options data\n",
        "options = yf.Ticker(\"^SPX\")\n",
        "expiry_date = \"2025-04-17\"\n",
        "option_chain = options.option_chain(expiry_date)\n",
        "call_df = option_chain.calls\n",
        "\n",
        "call_df[call_df['strike']==5000]['lastPrice'] # somewhat a close match to the 1-year at-the-money call option, but not exact"
      ],
      "metadata": {
        "colab": {
          "base_uri": "https://localhost:8080/"
        },
        "id": "PQ1iQsfB1LKH",
        "outputId": "822ace00-44ae-42ed-a768-bd65f803b1ae"
      },
      "execution_count": 10,
      "outputs": [
        {
          "output_type": "execute_result",
          "data": {
            "text/plain": [
              "14    486.51\n",
              "Name: lastPrice, dtype: float64"
            ]
          },
          "metadata": {},
          "execution_count": 10
        }
      ]
    },
    {
      "cell_type": "code",
      "source": [
        "# current levels of S&P500 and VIX\n",
        "S0 = sp500[-1]; v_0 = vt[-1]"
      ],
      "metadata": {
        "id": "lTag7nMyzWeN"
      },
      "execution_count": 11,
      "outputs": []
    },
    {
      "cell_type": "code",
      "source": [
        "today = ql.Date(17,4,2024)\n",
        "day_count = ql.Actual365Fixed()\n",
        "strike = S0\n",
        "maturity = ql.Date(17,4,2025)\n",
        "initial_value = ql.QuoteHandle(ql.SimpleQuote(S0))\n",
        "discount_curve = ql.YieldTermStructureHandle(ql.FlatForward(today,r,day_count))\n",
        "dividend_yield = ql.YieldTermStructureHandle(ql.FlatForward(today,0,day_count))\n",
        "heston_process = ql.HestonProcess(discount_curve,dividend_yield,initial_value,v_0,kappa,theta_hat,sigma_v_hat,rho_hat)\n",
        "call_payoff = ql.PlainVanillaPayoff(ql.Option.Call,strike)\n",
        "call_exercise = ql.EuropeanExercise(maturity)\n",
        "option = ql.VanillaOption(call_payoff,call_exercise)\n",
        "engine = ql.AnalyticHestonEngine(ql.HestonModel(heston_process),0.001,1000)\n",
        "option.setPricingEngine(engine)\n",
        "price = option.NPV()\n",
        "price"
      ],
      "metadata": {
        "colab": {
          "base_uri": "https://localhost:8080/"
        },
        "id": "9VZSSp9UhllH",
        "outputId": "26937b44-ec7a-4a2a-dfe2-7475ae47535e"
      },
      "execution_count": 12,
      "outputs": [
        {
          "output_type": "execute_result",
          "data": {
            "text/plain": [
              "534.2505608292646"
            ]
          },
          "metadata": {},
          "execution_count": 12
        }
      ]
    },
    {
      "cell_type": "markdown",
      "source": [
        "## Part c Heston Model (Monte Carlo)"
      ],
      "metadata": {
        "id": "FtDLeq855Xh-"
      }
    },
    {
      "cell_type": "code",
      "source": [
        "#MC parameters\n",
        "N = 10000\n",
        "delta_t_mc = 1/500"
      ],
      "metadata": {
        "id": "nzHCl-g22oEJ"
      },
      "execution_count": 13,
      "outputs": []
    },
    {
      "cell_type": "code",
      "source": [
        "def MCHeston(S0,K,r,T,kappa,theta,sigma_v,v0,rho,N,delta_t):\n",
        "  X0 = np.log(S0)\n",
        "  C_0 = [0] * N\n",
        "  for n in range(N):\n",
        "    d = int(T/delta_t+1)\n",
        "    Xt = [X0] * d\n",
        "    v_t = [v0] * d\n",
        "    epsilon = multivariate_normal.rvs(mean=[0,0],cov=[[1,rho],[rho,1]],size=d-1)\n",
        "    for i in range(1,d):\n",
        "      Xt[i] = Xt[i-1] + (r-0.5*v_t[i-1])*delta_t + np.sqrt(v_t[i-1]*delta_t)*epsilon[i-1,0]\n",
        "      v_t[i] = max(0,v_t[i-1] + kappa*(theta-v_t[i-1])*delta_t+sigma_v*np.sqrt(v_t[i-1]*delta_t)*epsilon[i-1,1])\n",
        "    C_0[n] = max(0,np.exp(Xt[-1])-K)*np.exp(-r*T)\n",
        "  return(np.average(C_0))"
      ],
      "metadata": {
        "id": "zF4zoWHo5iZ2"
      },
      "execution_count": 14,
      "outputs": []
    },
    {
      "cell_type": "code",
      "source": [
        "np.random.seed(12)\n",
        "mc_call = MCHeston(S0,S0,r,1,kappa,theta_hat,sigma_v_hat,v_0,rho_hat,N,delta_t_mc)\n",
        "mc_call # already very close to the option price from analytical heston model"
      ],
      "metadata": {
        "colab": {
          "base_uri": "https://localhost:8080/"
        },
        "id": "o8FHuyYG5ko-",
        "outputId": "cf92d638-468c-46ac-b645-79187f535028"
      },
      "execution_count": 15,
      "outputs": [
        {
          "output_type": "execute_result",
          "data": {
            "text/plain": [
              "538.0463371400278"
            ]
          },
          "metadata": {},
          "execution_count": 15
        }
      ]
    },
    {
      "cell_type": "markdown",
      "source": [
        "## Part d Parameter Tuning"
      ],
      "metadata": {
        "id": "HgSSUMjw8a4J"
      }
    },
    {
      "cell_type": "markdown",
      "source": [
        "Experiment with kappa and re-estimate theta"
      ],
      "metadata": {
        "id": "DgZlE-hwZG4R"
      }
    },
    {
      "cell_type": "code",
      "source": [
        "kappas = [2,2,3,3]\n",
        "thetas = [0.04, 0.05, 0.04, 0.05]"
      ],
      "metadata": {
        "id": "aCjO9JwQYfIj"
      },
      "execution_count": 18,
      "outputs": []
    },
    {
      "cell_type": "code",
      "source": [
        "MC_prices = []\n",
        "for i in range(len(kappas)):\n",
        "  np.random.seed(12)\n",
        "  MC_prices += [MCHeston(S0,S0,r,1,kappas[i],thetas[i],sigma_v_hat,v_0,rho_hat,N,delta_t_mc)]\n",
        "MC_prices"
      ],
      "metadata": {
        "colab": {
          "base_uri": "https://localhost:8080/"
        },
        "id": "ZN_E_AwsY6Y8",
        "outputId": "d1f15ff9-0e26-47d2-8d9b-4696ae39a01a"
      },
      "execution_count": 19,
      "outputs": [
        {
          "output_type": "execute_result",
          "data": {
            "text/plain": [
              "[516.1434729974186, 542.6906326959385, 523.1357658376268, 554.3498940547628]"
            ]
          },
          "metadata": {},
          "execution_count": 19
        }
      ]
    },
    {
      "cell_type": "code",
      "source": [
        "kappas = [1.5,1.5,2,2.5]\n",
        "thetas = [0.04,0.03, 0.03, 0.03]"
      ],
      "metadata": {
        "id": "WchxiIQEZluW"
      },
      "execution_count": 20,
      "outputs": []
    },
    {
      "cell_type": "code",
      "source": [
        "MC_prices = []\n",
        "for i in range(len(kappas)):\n",
        "  np.random.seed(12)\n",
        "  MC_prices += [MCHeston(S0,S0,r,1,kappas[i],thetas[i],sigma_v_hat,v_0,rho_hat,N,delta_t_mc)]\n",
        "MC_prices"
      ],
      "metadata": {
        "colab": {
          "base_uri": "https://localhost:8080/"
        },
        "id": "8P7uEE8eZ4zL",
        "outputId": "6439e379-0920-468c-f07c-28821a1b1fa7"
      },
      "execution_count": 21,
      "outputs": [
        {
          "output_type": "execute_result",
          "data": {
            "text/plain": [
              "[510.80493654211693, 486.17187841001555, 487.71757850452343, 488.5179337556684]"
            ]
          },
          "metadata": {},
          "execution_count": 21
        }
      ]
    },
    {
      "cell_type": "code",
      "source": [
        "theta = 0.03\n",
        "kappa = 1.5"
      ],
      "metadata": {
        "id": "7XEQwKDcaeBE"
      },
      "execution_count": 25,
      "outputs": []
    },
    {
      "cell_type": "markdown",
      "source": [
        "# Part e Greeks"
      ],
      "metadata": {
        "id": "-zehvNP09_C-"
      }
    },
    {
      "cell_type": "code",
      "source": [
        "# via quantlib\n",
        "today = ql.Date(17,4,2024)\n",
        "day_count = ql.Actual365Fixed()\n",
        "strike = S0\n",
        "maturity = ql.Date(17,4,2025)\n",
        "initial_value = ql.QuoteHandle(ql.SimpleQuote(S0))\n",
        "discount_curve = ql.YieldTermStructureHandle(ql.FlatForward(today,r,day_count))\n",
        "dividend_yield = ql.YieldTermStructureHandle(ql.FlatForward(today,0,day_count))\n",
        "heston_process = ql.HestonProcess(discount_curve,dividend_yield,initial_value,v_0,kappa,theta,sigma_v_hat,rho_hat)\n",
        "engine_price = ql.AnalyticHestonEngine(ql.HestonModel(heston_process),0.001,1000)\n",
        "option.setPricingEngine(engine_price)\n",
        "price = option.NPV()\n",
        "\n",
        "# Calculate option delta\n",
        "delta_s0 = 0.01\n",
        "S0_up = S0 + delta_s0\n",
        "initial_value_up = ql.QuoteHandle(ql.SimpleQuote(S0_up))\n",
        "heston_process_price_up = ql.HestonProcess(discount_curve,dividend_yield,initial_value_up,v_0,kappa,theta,sigma_v_hat,rho_hat)\n",
        "engine_price_up = ql.AnalyticHestonEngine(ql.HestonModel(heston_process_price_up),0.001,1000)\n",
        "option.setPricingEngine(engine_price_up)\n",
        "option_price_up = option.NPV()\n",
        "delta = (option_price_up - price) / delta_s0\n",
        "\n",
        "# Calculate option vega\n",
        "delta_v0 = 0.001*0.001\n",
        "vol_up = v_0 + delta_v0\n",
        "heston_process_vol_up = ql.HestonProcess(discount_curve,dividend_yield,initial_value,vol_up,kappa,theta,sigma_v_hat,rho_hat)\n",
        "engine_vol_up = ql.AnalyticHestonEngine(ql.HestonModel(heston_process_vol_up),0.001,1000)\n",
        "option.setPricingEngine(engine_vol_up)\n",
        "option_vol_up = option.NPV()\n",
        "vega = (option_vol_up - price) / delta_v0\n",
        "\n",
        "print(\"Option Price:\", price)\n",
        "print(\"Delta:\", delta)\n",
        "print(\"Vega:\", vega)"
      ],
      "metadata": {
        "colab": {
          "base_uri": "https://localhost:8080/"
        },
        "id": "_bCcDbE7-AhH",
        "outputId": "1ba88e34-8824-466b-bf2f-55a7a051851a"
      },
      "execution_count": 55,
      "outputs": [
        {
          "output_type": "stream",
          "name": "stdout",
          "text": [
            "Option Price: 482.02345377195326\n",
            "Delta: 0.7433772215392764\n",
            "Vega: 2565.134532119373\n"
          ]
        }
      ]
    },
    {
      "cell_type": "code",
      "source": [
        "# via Monte Carlo finite difference\n",
        "def MCHestonGreeks(S0,K,r,T,kappa,theta,sigma_v,v0,rho,N,delta_t,delta_S0,delta_v0):\n",
        "  X0 = np.log(S0)\n",
        "  X0_dS0 = np.log(S0+delta_S0)\n",
        "  Delta_0 = [0] * N\n",
        "  Vega_0 = [0] * N\n",
        "  for n in range(N):\n",
        "    d = int(T/delta_t+1)\n",
        "    Xt = [X0] * d\n",
        "    Xt_dS0 = [X0_dS0] * d\n",
        "    Xt_dv0 = [X0] * d\n",
        "    v_t = [v0] * d\n",
        "    v_t_1 = [v0+delta_v0] * d\n",
        "    epsilon = multivariate_normal.rvs(mean=[0,0],cov=[[1,rho],[rho,1]],size=d-1)\n",
        "    for i in range(1,d):\n",
        "      Xt[i] = Xt[i-1] + (r-0.5*v_t[i-1])*delta_t + np.sqrt(v_t[i-1]*delta_t)*epsilon[i-1,0]\n",
        "      Xt_dS0[i] = Xt_dS0[i-1] + (r-0.5*v_t[i-1])*delta_t + np.sqrt(v_t[i-1]*delta_t)*epsilon[i-1,0]\n",
        "      Xt_dv0[i] = Xt_dv0[i-1] + (r-0.5*v_t_1[i-1])*delta_t + np.sqrt(v_t_1[i-1]*delta_t)*epsilon[i-1,0]\n",
        "      v_t[i] = max(0,v_t[i-1] + kappa*(theta-v_t[i-1])*delta_t+sigma_v*np.sqrt(v_t[i-1]*delta_t)*epsilon[i-1,1])\n",
        "      v_t_1[i] = max(0,v_t_1[i-1] + kappa*(theta-v_t_1[i-1])*delta_t+sigma_v*np.sqrt(v_t_1[i-1]*delta_t)*epsilon[i-1,1])\n",
        "\n",
        "    C_0 = max(np.exp(Xt[-1])-K,0)*np.exp(-r*T)\n",
        "    C_0_dS0 = max(np.exp(Xt_dS0[-1])-K,0)*np.exp(-r*T)\n",
        "    C_0_dv0 = max(np.exp(Xt_dv0[-1])-K,0)*np.exp(-r*T)\n",
        "    Delta_0[n] = (C_0_dS0-C_0)/delta_S0\n",
        "    Vega_0[n] = (C_0_dv0-C_0)/delta_v0\n",
        "\n",
        "  return(np.average(Delta_0),np.average(Vega_0))"
      ],
      "metadata": {
        "id": "pvqK8KSOCe0n"
      },
      "execution_count": 56,
      "outputs": []
    },
    {
      "cell_type": "code",
      "source": [
        "delta_S0 = 0.001\n",
        "delta_v0 = 0.001*0.001\n",
        "np.random.seed(12)\n",
        "delta_mc, vega_mc = MCHestonGreeks(S0,S0,r,1,kappa,theta,sigma_v_hat,v_0,rho_hat,N,delta_t_mc,delta_S0,delta_v0)\n",
        "\n",
        "print(\"Option Price:\", MC_prices[1])\n",
        "print(\"Delta:\", delta_mc)\n",
        "print(\"Vega:\", vega_mc)"
      ],
      "metadata": {
        "colab": {
          "base_uri": "https://localhost:8080/"
        },
        "id": "IXmJY97dCnz3",
        "outputId": "f9cf3a72-8646-4255-c43a-f65e70b2909d"
      },
      "execution_count": 59,
      "outputs": [
        {
          "output_type": "stream",
          "name": "stdout",
          "text": [
            "Option Price: 486.17187841001555\n",
            "Delta: 0.742646836717334\n",
            "Vega: 2626.7666356386735\n"
          ]
        }
      ]
    }
  ]
}