{
  "nbformat": 4,
  "nbformat_minor": 0,
  "metadata": {
    "colab": {
      "provenance": [],
      "include_colab_link": true
    },
    "kernelspec": {
      "name": "python3",
      "display_name": "Python 3"
    },
    "language_info": {
      "name": "python"
    }
  },
  "cells": [
    {
      "cell_type": "markdown",
      "metadata": {
        "id": "view-in-github",
        "colab_type": "text"
      },
      "source": [
        "<a href=\"https://colab.research.google.com/github/danielbauer1979/FI830/blob/main/FI830_HW5_MC_Simulations.ipynb\" target=\"_parent\"><img src=\"https://colab.research.google.com/assets/colab-badge.svg\" alt=\"Open In Colab\"/></a>"
      ]
    },
    {
      "cell_type": "code",
      "execution_count": null,
      "metadata": {
        "id": "2yMpoicrKULE"
      },
      "outputs": [],
      "source": [
        "import numpy as np\n",
        "import statistics\n",
        "import scipy.stats as st"
      ]
    },
    {
      "cell_type": "markdown",
      "source": [
        "# Q2. Monte Carlo Option Pricing (I): European Put Option\n",
        "Consider the European Put Option with $S_0=K=3977.19,\\ \\sigma=12\\%,\\ r=5\\%,$ and expiration $T=1.$"
      ],
      "metadata": {
        "id": "BsbB1nG2cUNM"
      }
    },
    {
      "cell_type": "code",
      "source": [
        "def MC_BSPut(S0,K,T,sigma,r,N):\n",
        "  Z = np.random.normal(0,1,N)\n",
        "  S = payoff = [0]*N\n",
        "  for n in range(N):\n",
        "    S[n] = S0*np.exp((r-sigma**2/2)*T+sigma*np.sqrt(T)*Z[n])\n",
        "    payoff[n] = np.exp(-r*T)*max(K-S[n],0)\n",
        "  MC_est = np.mean(payoff)\n",
        "  MC_sd = statistics.stdev(payoff)\n",
        "  h = MC_sd * st.t.ppf(0.975, N-1) / np.sqrt(N)\n",
        "  return(MC_est,MC_est-h,MC_est+h)\n",
        "\n",
        "# European Call\n",
        "def MC_BSCall(S0,K,T,sigma,r,N):\n",
        "  Z = np.random.normal(0,1,N)\n",
        "  payoff = []\n",
        "  for n in range(N):\n",
        "    S_T = S0*np.exp((r-sigma**2/2)*T+sigma*np.sqrt(T)*Z[n])\n",
        "    payoff += [np.exp(-r*T)*max(S_T-K,0)]\n",
        "  MC_est = np.mean(payoff)\n",
        "  MC_sd = statistics.stdev(payoff)\n",
        "  h = MC_sd * st.t.ppf(0.975, N-1) / np.sqrt(N)\n",
        "  return(MC_est,MC_est-h,MC_est+h)"
      ],
      "metadata": {
        "id": "p2GhiNBgKcSa"
      },
      "execution_count": null,
      "outputs": []
    },
    {
      "cell_type": "code",
      "source": [
        "S0 = 3977.19; K = 3977.19; T = 1; sigma = 0.12; r = 0.05\n",
        "# N = 100\n",
        "MC_100 = MC_BSPut(S0,K,T,sigma,r,100)\n",
        "print(\"The MC estimate with 100 realizations is $%.2f.\" % MC_100[0])\n",
        "print(\"The 95%% CI with 100 realizations is (%.2f, %.2f).\" % (MC_100[1],MC_100[2]))\n",
        "# N = 1000\n",
        "MC_1000 = MC_BSPut(S0,K,T,sigma,r,1000)\n",
        "print(\"The MC estimate with 1000 realizations is $%.2f.\" % MC_1000[0])\n",
        "print(\"The 95%% CI with 1000 realizations is (%.2f, %.2f).\" % (MC_1000[1],MC_1000[2]))\n",
        "# N = 10000\n",
        "MC_10000 = MC_BSPut(S0,K,T,sigma,r,10000)\n",
        "print(\"The MC estimate with 10000 realizations is $%.2f.\" % MC_10000[0])\n",
        "print(\"The 95%% CI with 10000 realizations is (%.2f, %.2f).\" % (MC_10000[1],MC_10000[2]))"
      ],
      "metadata": {
        "colab": {
          "base_uri": "https://localhost:8080/"
        },
        "id": "OK7cCLxfLNHi",
        "outputId": "8e82d5f4-ef8b-4021-f778-2b76c8541af9"
      },
      "execution_count": null,
      "outputs": [
        {
          "output_type": "stream",
          "name": "stdout",
          "text": [
            "The MC estimate with 100 realizations is $94.89.\n",
            "The 95% CI with 100 realizations is (62.76, 127.02).\n",
            "The MC estimate with 1000 realizations is $101.47.\n",
            "The 95% CI with 1000 realizations is (90.05, 112.89).\n",
            "The MC estimate with 10000 realizations is $103.49.\n",
            "The 95% CI with 10000 realizations is (99.76, 107.22).\n"
          ]
        }
      ]
    },
    {
      "cell_type": "code",
      "source": [
        "def BS_PUT(S0, K, T, sigma, r):\n",
        "  N = st.norm.cdf\n",
        "  d1 = (np.log(S0/K) + (r + sigma**2/2)*T) / (sigma*np.sqrt(T))\n",
        "  d2 = d1 - sigma * np.sqrt(T)\n",
        "  return K*np.exp(-r*T)*N(-d2) - S0*N(-d1)\n",
        "\n",
        "def BS_CALL(S0, K, T, sigma, r):\n",
        "  N = st.norm.cdf\n",
        "  d1 = (np.log(S0/K) + (r + sigma**2/2)*T) / (sigma*np.sqrt(T))\n",
        "  d2 = d1 - sigma * np.sqrt(T)\n",
        "  #return K*np.exp(-r*T)*N(-d2) - S0*N(-d1)\n",
        "  return S0*N(d1) - K*np.exp(-r*T)*N(d2)\n",
        "\n",
        "BS_PUT(S0,K,T,sigma,r)"
      ],
      "metadata": {
        "id": "PNn_KDZzOn7S",
        "colab": {
          "base_uri": "https://localhost:8080/"
        },
        "outputId": "25fb67d2-b1c3-4b9b-b644-a384f0ff9f32"
      },
      "execution_count": null,
      "outputs": [
        {
          "output_type": "execute_result",
          "data": {
            "text/plain": [
              "104.5237876313463"
            ]
          },
          "metadata": {},
          "execution_count": 5
        }
      ]
    },
    {
      "cell_type": "code",
      "source": [
        "trueP = BS_PUT(S0,K,T,sigma,r)\n",
        "print(\"The actual Black-Scholes price is $%.2f.\" % trueP)"
      ],
      "metadata": {
        "id": "4cV0zx3nRrlh",
        "colab": {
          "base_uri": "https://localhost:8080/"
        },
        "outputId": "d7ef4e4a-298d-4612-b358-6ebdfd2f8f32"
      },
      "execution_count": null,
      "outputs": [
        {
          "output_type": "stream",
          "name": "stdout",
          "text": [
            "The actual Black-Scholes price is $104.52.\n"
          ]
        }
      ]
    },
    {
      "cell_type": "code",
      "source": [
        "count = 0\n",
        "for i in range(500):\n",
        "  CI_low, CI_upp = MC_BSPut(S0,K,T,sigma,r,1000)[1:]\n",
        "  if trueP > CI_low and trueP < CI_upp:\n",
        "    count += 1\n",
        "print(\"The BS Price falls into the confidence intervals for %d times.\" % count)"
      ],
      "metadata": {
        "colab": {
          "base_uri": "https://localhost:8080/"
        },
        "id": "KZe3ir7l-UzF",
        "outputId": "3084db1d-ca5f-440a-f895-80578322c708"
      },
      "execution_count": null,
      "outputs": [
        {
          "output_type": "stream",
          "name": "stdout",
          "text": [
            "The BS Price falls into the confidence intervals for 470 times.\n"
          ]
        }
      ]
    },
    {
      "cell_type": "code",
      "source": [
        "# part d\n",
        "def MC_BSPut_sd(S0,K,T,sigma,r,N):\n",
        "  Z = np.random.normal(0,1,N)\n",
        "  S = payoff = [0]*N\n",
        "  for n in range(N):\n",
        "    S[n] = S0*np.exp((r-sigma**2/2)*T+sigma*np.sqrt(T)*Z[n])\n",
        "    payoff[n] = np.exp(-r*T)*max(K-S[n],0)\n",
        "  MC_est = np.mean(payoff)\n",
        "  MC_sd = statistics.stdev(payoff)\n",
        "  h = MC_sd * st.t.ppf(0.975, N-1) / np.sqrt(N)\n",
        "  return MC_sd\n",
        "\n",
        "est_sd = np.mean([MC_BSPut_sd(S0,K,T,sigma,r,1000) for i in range(500)])"
      ],
      "metadata": {
        "id": "yFvoFuMmPYSW"
      },
      "execution_count": null,
      "outputs": []
    },
    {
      "cell_type": "code",
      "source": [
        "# want h to be less than 0.02, h = MC_sd * 1.96 / np.sqrt(N), N>(est_sd*1.96/0.02)**2\n",
        "N = int((est_sd*1.96/0.02)**2+1)\n",
        "N"
      ],
      "metadata": {
        "colab": {
          "base_uri": "https://localhost:8080/"
        },
        "id": "WtRFPs2MQeOy",
        "outputId": "5b13f8fa-d665-4b1e-8230-83dc1d17ae19"
      },
      "execution_count": null,
      "outputs": [
        {
          "output_type": "execute_result",
          "data": {
            "text/plain": [
              "350660219"
            ]
          },
          "metadata": {},
          "execution_count": 9
        }
      ]
    },
    {
      "cell_type": "markdown",
      "source": [
        "# Q3. Monte Carlo Option Pricing (II): Asian Option\n",
        "Consider the same setup as in Q2, i.e., $S_0=K=3977.19,\\ \\sigma=16\\%,\\ r=5\\%,\\ T=1,$ and trading days $d=256.$ An **Asian Average Rate Call** Option is an option that, at expiry $T,$ pays\n",
        "$$\n",
        "(A-K)^+ \\text{ where } A=\\frac{1}{256}\\sum_{i=1}^{256}S_{t_i},\n",
        "$$\n",
        "and $S_{t_i}$ is the stock price on day $i\\in \\{1,2,\\cdots,256\\}.$ Determine a Monte-Carlo estimate of the option price."
      ],
      "metadata": {
        "id": "sfiOAWjZmjKC"
      }
    },
    {
      "cell_type": "code",
      "source": [
        "S0 = 3977.19; K = 3977.19; T = 1; sigma = 0.12; r = 0.05; d = 252\n",
        "\n",
        "# Generates N sample paths of the stock price\n",
        "# returns a N x (d+1) matrix\n",
        "def sample_path(S0, K, T, sigma, r, N, d):\n",
        "  St_paths = np.ndarray(shape=(N,d+1)) # Initialize the stock paths\n",
        "  for n in range(N): # For each simulation (stock path)\n",
        "    Z = np.random.normal(0,1,d) # generate d standard normal random variables\n",
        "    St_paths[n,0] = S0 # stock price at time 0\n",
        "    for i in range(1,d+1): # recursion\n",
        "      St_paths[n,i] = St_paths[n,i-1] * np.exp((r-sigma**2/2)*(T/d)+sigma*np.sqrt(T/d)*Z[i-1])\n",
        "  return(St_paths[:,1:])\n",
        "\n",
        "stock_paths = sample_path(S0,K,T,sigma,r,10000,d) #10000 sample paths of the stock price"
      ],
      "metadata": {
        "id": "W3eE7oKV_uCJ"
      },
      "execution_count": null,
      "outputs": []
    },
    {
      "cell_type": "code",
      "source": [
        "# Calculate realizations A_j and payoffs C_j\n",
        "A = [np.average(x) for x in stock_paths]\n",
        "C = [np.exp(-r*T)*max(x-K,0) for x in A]\n",
        "print(\"An MC estimate of the option price is $%.2f.\" % np.average(C))"
      ],
      "metadata": {
        "colab": {
          "base_uri": "https://localhost:8080/"
        },
        "id": "2OB2BIqgKZOd",
        "outputId": "9a6052e4-86fc-4f7c-969f-9d27e9b288e9"
      },
      "execution_count": null,
      "outputs": [
        {
          "output_type": "stream",
          "name": "stdout",
          "text": [
            "An MC estimate of the option price is $161.42.\n"
          ]
        }
      ]
    },
    {
      "cell_type": "code",
      "source": [
        "# Alternatively\n",
        "S0 = 3977.19; K = 3977.19; T = 1; sigma = 0.12; r = 0.05; d = 256; N = 10000\n",
        "C = [0]*N # C_j's\n",
        "for n in range(N):\n",
        "  St_path = [S0] # stock path for each simulation\n",
        "  for i in range(1,d+1):\n",
        "    Z = np.random.normal(0,1)\n",
        "    St_path += [St_path[i-1]*np.exp((r-0.5*sigma**2)*(T/d)+sigma*np.sqrt(T/d)*Z)]\n",
        "  A = np.average(St_path) # A_j\n",
        "  C[n] = np.exp(-r*T) * max(A-K,0) # C_j\n",
        "\n",
        "np.average(C)"
      ],
      "metadata": {
        "id": "XT1nS3ztNXkD",
        "colab": {
          "base_uri": "https://localhost:8080/"
        },
        "outputId": "cc746995-f9bc-4635-d199-c76881ea1bf7"
      },
      "execution_count": null,
      "outputs": [
        {
          "output_type": "execute_result",
          "data": {
            "text/plain": [
              "158.59500695055567"
            ]
          },
          "metadata": {},
          "execution_count": 17
        }
      ]
    },
    {
      "cell_type": "code",
      "source": [],
      "metadata": {
        "id": "qqyOjeKebDpF"
      },
      "execution_count": null,
      "outputs": []
    }
  ]
}