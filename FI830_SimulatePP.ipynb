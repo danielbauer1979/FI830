{
  "nbformat": 4,
  "nbformat_minor": 0,
  "metadata": {
    "colab": {
      "name": "FI830_SimulatePP.ipynb",
      "provenance": [],
      "collapsed_sections": [],
      "authorship_tag": "ABX9TyMMe9SAEEaLfkq+V9WxZ8Un",
      "include_colab_link": true
    },
    "kernelspec": {
      "name": "python3",
      "display_name": "Python 3"
    },
    "language_info": {
      "name": "python"
    }
  },
  "cells": [
    {
      "cell_type": "markdown",
      "metadata": {
        "id": "view-in-github",
        "colab_type": "text"
      },
      "source": [
        "<a href=\"https://colab.research.google.com/github/danielbauer1979/FI830/blob/main/FI830_SimulatePP.ipynb\" target=\"_parent\"><img src=\"https://colab.research.google.com/assets/colab-badge.svg\" alt=\"Open In Colab\"/></a>"
      ]
    },
    {
      "cell_type": "code",
      "execution_count": 7,
      "metadata": {
        "colab": {
          "base_uri": "https://localhost:8080/",
          "height": 330
        },
        "id": "mX6TtlYDW855",
        "outputId": "c00ede3a-c5ac-40d9-d110-d54d1697ea33"
      },
      "outputs": [
        {
          "output_type": "stream",
          "name": "stderr",
          "text": [
            "No handles with labels found to put in legend.\n"
          ]
        },
        {
          "output_type": "execute_result",
          "data": {
            "text/plain": [
              "<matplotlib.legend.Legend at 0x7f3c314b34d0>"
            ]
          },
          "metadata": {},
          "execution_count": 7
        },
        {
          "output_type": "display_data",
          "data": {
            "text/plain": [
              "<Figure size 432x288 with 1 Axes>"
            ],
            "image/png": "[encoded data removed]"
          },
          "metadata": {
            "needs_background": "light"
          }
        }
      ],
      "source": [
        "import numpy as np\n",
        "import pandas as pd\n",
        "import matplotlib.pyplot as plt\n",
        "from scipy.stats import poisson\n",
        "\n",
        "par_lambda = 0.02\n",
        "num_events_simulated = 5\n",
        "\n",
        "def generate_poisson_process(par_lambda, num_events):\n",
        "    time_intervals = np.random.exponential(1.0/par_lambda, num_events)\n",
        "    total_events = time_intervals.cumsum()\n",
        "    events = pd.DataFrame(np.ones(num_events), index=total_events)\n",
        "    events[0] = events[0].cumsum()\n",
        "\n",
        "    return events\n",
        "\n",
        "plt.plot(generate_poisson_process(par_lambda, num_events_simulated), marker='o', drawstyle='steps-post')\n",
        "plt.title(\"Sample Poisson Process\")\n",
        "plt.xlabel(\"time\")\n",
        "plt.ylabel(\"events\")\n",
        "plt.legend()"
      ]
    }
  ]
}