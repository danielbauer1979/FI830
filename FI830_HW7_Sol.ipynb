{
  "nbformat": 4,
  "nbformat_minor": 0,
  "metadata": {
    "colab": {
      "provenance": [],
      "include_colab_link": true
    },
    "kernelspec": {
      "name": "python3",
      "display_name": "Python 3"
    },
    "language_info": {
      "name": "python"
    }
  },
  "cells": [
    {
      "cell_type": "markdown",
      "metadata": {
        "id": "view-in-github",
        "colab_type": "text"
      },
      "source": [
        "<a href=\"https://colab.research.google.com/github/danielbauer1979/FI830/blob/main/FI830_HW7_Sol.ipynb\" target=\"_parent\"><img src=\"https://colab.research.google.com/assets/colab-badge.svg\" alt=\"Open In Colab\"/></a>"
      ]
    },
    {
      "cell_type": "markdown",
      "source": [
        "# Interest Rate Derivatives\n",
        "\n",
        "Assume the Vasicek model:\n",
        "\n",
        "$$\n",
        "dr_t=\\alpha(\\beta-r_t)+\\gamma dW_t\n",
        "$$\n",
        "\n",
        "with (risk-neutral) parameters $\\alpha=0.3,\\ \\beta=3.5\\%,\\ \\gamma=0.02,$ and $r_0=1.5\\%$ reflecting the relevant yield curve."
      ],
      "metadata": {
        "id": "B_qLkWDeJyzJ"
      }
    },
    {
      "cell_type": "markdown",
      "source": [
        "## (a) Analytical Price\n",
        "The analytical price of a $T$-year zero coupon bond (paying \\$ 1 at time $T$) is\n",
        "\n",
        "$$\n",
        "P(F,t,T) = e^{-r_t A(t,T)- D(t,T)}\n",
        "$$\n",
        "\n",
        "where\n",
        "$$\n",
        "A(t,T) = \\frac{1-e^{-\\alpha(T-t)}}{\\alpha}\n",
        "$$\n",
        "and\n",
        "$$\n",
        "A(t,T) = \\left(\\frac{\\gamma^2}{2\\alpha^2}-\\beta\\right)\\left(A(t,T)(T-t)\\right)+\\frac{\\gamma^2}{4\\alpha}A^2(t,T)\n",
        "$$"
      ],
      "metadata": {
        "id": "DloV8JZ2cj0r"
      }
    },
    {
      "cell_type": "code",
      "source": [
        "import numpy as np\n",
        "import scipy.stats as st"
      ],
      "metadata": {
        "id": "6D8ZOI4XKlDe"
      },
      "execution_count": 1,
      "outputs": []
    },
    {
      "cell_type": "code",
      "source": [
        "# Parameters\n",
        "alpha = 0.3\n",
        "beta = 0.048\n",
        "gamma = 0.02\n",
        "r0 = 0.015"
      ],
      "metadata": {
        "id": "756zmXjqeH_7"
      },
      "execution_count": 2,
      "outputs": []
    },
    {
      "cell_type": "code",
      "source": [
        "def anal_Vasicek(t,T,r_0):\n",
        "  A_t_T = (1-np.exp(-alpha*(T-t)))/alpha\n",
        "  D_t_T = (gamma**2/(2*alpha**2)-beta)*(A_t_T-(T-t))+(gamma**2/(4*alpha))*A_t_T**2\n",
        "  return np.exp(-r_0*A_t_T-D_t_T)"
      ],
      "metadata": {
        "id": "_nAePrlPEJh3"
      },
      "execution_count": 3,
      "outputs": []
    },
    {
      "cell_type": "code",
      "source": [
        "P_0_5 = anal_Vasicek(0,5,r0)\n",
        "print(\"The analytical price of a 5-year zero coupon bond with face of $1 is $%.3f.\" % P_0_5)"
      ],
      "metadata": {
        "colab": {
          "base_uri": "https://localhost:8080/"
        },
        "id": "uq003_nJE2pK",
        "outputId": "2eb786f1-fb9e-4162-8682-d429448fc414"
      },
      "execution_count": 4,
      "outputs": [
        {
          "output_type": "stream",
          "name": "stdout",
          "text": [
            "The analytical price of a 5-year zero coupon bond with face of $1 is $0.859.\n"
          ]
        }
      ]
    },
    {
      "cell_type": "markdown",
      "source": [
        "## (b) Monte Carlo Simulation\n",
        "Let $h$ be the step size. An Euler discretization gives\n",
        "$$\n",
        "\\begin{align*}\n",
        "r_{t+1} &= r_t + \\Delta r_t \\\\\n",
        "&= r_t + \\alpha(\\beta-r_t)h+\\gamma(W_{t+1}-W_t) \\\\\n",
        "&= r_t + \\alpha(\\beta-r_t)h+\\gamma\\sqrt{h}Z_{t+1}\n",
        "\\end{align*}\n",
        "$$\n",
        "where $Z_{t+1}\\sim N(0,1).$\n",
        "\n",
        "Then $P(0,T)=\\mathbb{E}^{\\mathbb{Q}}[e^{-\\int_0^T r_s ds}\\vert \\mathcal{F}_0]$ can be approximated via Monte Carlo simulation\n",
        "$$\n",
        "\\hat{P}(0,T) = \\frac{1}{N}\\sum_{n=1}^N f(h,n)\n",
        "$$\n",
        "where $N$ is the number of simulations and \n",
        "$$\n",
        "f(h,n) = F \\times \\text{exp}\\left\\{-\\left(\\frac{1}{2}r_0+\\sum_{j=1}^{k-1}r_j+\\frac{1}{2}r_k\\right)h\\right\\}\n",
        "$$\n",
        "where $F$ is the face value of the $T$-year zero coupon bond."
      ],
      "metadata": {
        "id": "6qh4PE1GllyL"
      }
    },
    {
      "cell_type": "code",
      "source": [
        "def MCVesicek(h,T,N):\n",
        "  bondP = [0] * N\n",
        "  for n in range(N):\n",
        "    k = int(T/h+1)\n",
        "    r_t = [r0] * k\n",
        "    Z = np.random.normal(0,1,k-1)\n",
        "    for i in range(1,k):\n",
        "      r_t[i] = r_t[i-1] + alpha*(beta-r_t[i-1])*h + gamma*np.sqrt(h)*Z[i-1]\n",
        "    r_hat = (0.5*r_t[0] + sum(r_t[1:-1]) + 0.5*r_t[-1]) * h #Approximate integral by the trapezoidal rule, https://en.wikipedia.org/wiki/Trapezoidal_rule\n",
        "    bondP[n] = np.exp(-r_hat)\n",
        "  return np.average(bondP)"
      ],
      "metadata": {
        "id": "ZwrWaWDJeDRH"
      },
      "execution_count": 5,
      "outputs": []
    },
    {
      "cell_type": "code",
      "source": [
        "MC_P = MCVesicek(1/365,5,10000)\n",
        "print(\"The Monte Carlo price of a 5-year zero coupon bond with face of $1 is $%.3f.\" % MC_P)"
      ],
      "metadata": {
        "colab": {
          "base_uri": "https://localhost:8080/"
        },
        "id": "UfWkhq3XeGKI",
        "outputId": "d6424810-1eef-4c65-fa73-fa1a42d610d3"
      },
      "execution_count": 6,
      "outputs": [
        {
          "output_type": "stream",
          "name": "stdout",
          "text": [
            "The Monte Carlo price of a 5-year zero coupon bond with face of $1 is $0.859.\n"
          ]
        }
      ]
    },
    {
      "cell_type": "markdown",
      "source": [
        "## (c) Interest Rate Swap\n",
        "Given level notional amount $Q,$ the swap rate of a non-deferred interest rate swap is\n",
        "$$\n",
        "R = \\frac{1-P_{t_n}}{\\sum_{i=1}^n P_{t_i}}\n",
        "$$"
      ],
      "metadata": {
        "id": "swB2jWaRtC89"
      }
    },
    {
      "cell_type": "code",
      "source": [
        "P_t_i = [anal_Vasicek(0,i,r0) for i in range(1,6)]\n",
        "swap_rate = (1-P_t_i[-1])/sum(P_t_i) \n",
        "print(\"The swap rate is %.2f%%.\\n\" % float(swap_rate*100))"
      ],
      "metadata": {
        "colab": {
          "base_uri": "https://localhost:8080/"
        },
        "id": "IBeuWMenAjXQ",
        "outputId": "0312a30c-1452-485b-ecc3-4f9871188d0f"
      },
      "execution_count": 7,
      "outputs": [
        {
          "output_type": "stream",
          "name": "stdout",
          "text": [
            "The swap rate is 3.05%.\n",
            "\n"
          ]
        }
      ]
    },
    {
      "cell_type": "code",
      "source": [
        "np.random.seed(101)\n",
        "P_t_i_MC = [MCVesicek(1/365,i,1000) for i in range(1,6)]\n",
        "swap_rate_MC = (1-P_t_i_MC[-1])/sum(P_t_i_MC) \n",
        "print(\"The swap rate is %.2f%%.\\n\" % float(swap_rate_MC*100))"
      ],
      "metadata": {
        "colab": {
          "base_uri": "https://localhost:8080/"
        },
        "id": "LCBsWKYJq-2P",
        "outputId": "d33463dc-343d-4f01-9d2c-5283cf3f7e23"
      },
      "execution_count": 8,
      "outputs": [
        {
          "output_type": "stream",
          "name": "stdout",
          "text": [
            "The swap rate is 3.07%.\n",
            "\n"
          ]
        }
      ]
    },
    {
      "cell_type": "markdown",
      "source": [
        "## (d) Call Option\n",
        "The value (at time $t$) of a European Call option on a $S$-year zero-coupon bond with an option maturity of $T$ years and strike price of $K$ is\n",
        "$$\n",
        "e^{-\\int_t^T r_s\\,ds}\\text{max}\\{P(F,T,S)-K,0\\}= P(1,t,T)(P(F,T,S)-K)^+\n",
        "$$"
      ],
      "metadata": {
        "id": "CHAya7ogNBZm"
      }
    },
    {
      "cell_type": "code",
      "source": [
        "# Parameters\n",
        "t = 0\n",
        "T = 4\n",
        "S = 5\n",
        "K = 970\n",
        "F = 1000\n",
        "\n",
        "N = 10000\n",
        "h = 1/365"
      ],
      "metadata": {
        "id": "HmR8RHLyzI9f"
      },
      "execution_count": 9,
      "outputs": []
    },
    {
      "cell_type": "code",
      "source": [
        "np.random.seed(42)\n",
        "discCallPyo = [0] * N\n",
        "for n in range(N):\n",
        "  k = int(T/h+1)\n",
        "  r_t = [r0] * k\n",
        "  Z = np.random.normal(0,1,k-1)\n",
        "  for i in range(1,k):\n",
        "    r_t[i] = r_t[i-1] + alpha*(beta-r_t[i-1])*h + gamma*np.sqrt(h)*Z[i-1]\n",
        "  r_hat = (0.5*r_t[0] + sum(r_t[1:-1]) + 0.5*r_t[-1]) * h #Approximate integral by the trapezoidal rule, https://en.wikipedia.org/wiki/Trapezoidal_rule\n",
        "  discCallPyo[n] = np.exp(-r_hat) * max(1000*anal_Vasicek(T,S,r_t[-1])-K,0)\n",
        "BondOption = np.average(discCallPyo)"
      ],
      "metadata": {
        "id": "7WFjpPiHPR7d"
      },
      "execution_count": 10,
      "outputs": []
    },
    {
      "cell_type": "code",
      "source": [
        "print(\"The Bond option price is $%.3f.\" % BondOption)"
      ],
      "metadata": {
        "id": "1HMI35AtJzKW",
        "colab": {
          "base_uri": "https://localhost:8080/"
        },
        "outputId": "8c53a675-fb03-428d-eb90-75dba168be7f"
      },
      "execution_count": 11,
      "outputs": [
        {
          "output_type": "stream",
          "name": "stdout",
          "text": [
            "The Bond option price is $4.386.\n"
          ]
        }
      ]
    }
  ]
}