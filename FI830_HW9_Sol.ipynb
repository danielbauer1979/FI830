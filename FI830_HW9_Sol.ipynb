{
  "nbformat": 4,
  "nbformat_minor": 0,
  "metadata": {
    "colab": {
      "name": "FI830_HW9_Sol.ipynb",
      "provenance": [],
      "collapsed_sections": [],
      "include_colab_link": true
    },
    "kernelspec": {
      "name": "python3",
      "display_name": "Python 3"
    },
    "language_info": {
      "name": "python"
    }
  },
  "cells": [
    {
      "cell_type": "markdown",
      "metadata": {
        "id": "view-in-github",
        "colab_type": "text"
      },
      "source": [
        "<a href=\"https://colab.research.google.com/github/danielbauer1979/FI830/blob/main/FI830_HW9_Sol.ipynb\" target=\"_parent\"><img src=\"https://colab.research.google.com/assets/colab-badge.svg\" alt=\"Open In Colab\"/></a>"
      ]
    },
    {
      "cell_type": "markdown",
      "source": [
        "# 1 Structural Credit Risk Models\n",
        "Let $D_0$ denote the total debt of the firm at time zero. Then the leverage ratio $L_0=\\frac{D_0}{E_0}=\\frac{D_0}{A_0 - D_0}$. Merton's structural model gives\n",
        "$$\n",
        "D_0(T) = D e^{-rT}-\\left(D\\,e^{-rT}\\Phi(-d_2)-A_0\\,\\Phi(-d_1)\\right),\n",
        "$$\n",
        "where $d_1=\\frac{\\text{log}(A_0/D)+(r+\\sigma^2/2)T}{\\sigma\\sqrt{T}}$ and $d_2=d_1-\\sigma\\sqrt{T}$, where $D$ is the face amount."
      ],
      "metadata": {
        "id": "lC2GCQS2DIQ0"
      }
    },
    {
      "cell_type": "code",
      "source": [
        "import numpy as np\n",
        "import scipy.stats as st\n",
        "from scipy.optimize import fsolve\n",
        "import matplotlib.pyplot as plt\n",
        "from scipy.integrate import quad"
      ],
      "metadata": {
        "id": "enHoTtwWFt5w"
      },
      "execution_count": 29,
      "outputs": []
    },
    {
      "cell_type": "code",
      "source": [
        "# Parameters\n",
        "r = 0.05\n",
        "sigma = 0.2\n",
        "A_0 = 100"
      ],
      "metadata": {
        "id": "432x16brFv7u"
      },
      "execution_count": 30,
      "outputs": []
    },
    {
      "cell_type": "code",
      "source": [
        "def Merton(A_0,D,T,sigma,r):\n",
        "  N = st.norm.cdf\n",
        "  d1 = (np.log(A_0/D)+(r+sigma**2/2)*T) / (sigma*np.sqrt(T))\n",
        "  d2 = d1 - sigma * np.sqrt(T)\n",
        "  D0 = D * np.exp(-r*T) - (D*np.exp(-r*T)*N(-d2) - A_0*N(-d1))\n",
        "  return D0 "
      ],
      "metadata": {
        "id": "SaPQ5facGkN6"
      },
      "execution_count": 31,
      "outputs": []
    },
    {
      "cell_type": "code",
      "source": [
        "#Solve for principal that gives leverage\n",
        "h=1\n",
        "T_grid = np.arange(h,10+h,h)\n",
        "D_10 = np.zeros(10)\n",
        "D_3 = np.zeros(10)\n",
        "D_1 = np.zeros(10)\n",
        "D_1_3 = np.zeros(10)\n",
        "D_1_10 = np.zeros(10)\n",
        "\n",
        "for t in T_grid:\n",
        "  lever = lambda D : 10 - Merton(A_0,D,t,sigma,r)/(A_0 - Merton(A_0,D,t,sigma,r)) \n",
        "  D_10[t-1] = fsolve(lever, 90)\n",
        "  lever = lambda D : 3 - Merton(A_0,D,t,sigma,r)/(A_0 - Merton(A_0,D,t,sigma,r)) \n",
        "  D_3[t-1] = fsolve(lever, 60)\n",
        "  lever = lambda D : 1 - Merton(A_0,D,t,sigma,r)/(A_0 - Merton(A_0,D,t,sigma,r)) \n",
        "  D_1[t-1] = fsolve(lever, 50)\n",
        "  lever = lambda D : 0.333 - Merton(A_0,D,t,sigma,r)/(A_0 - Merton(A_0,D,t,sigma,r)) \n",
        "  D_1_3[t-1] = fsolve(lever, 20)\n",
        "  lever = lambda D : 0.1 - Merton(A_0,D,t,sigma,r)/(A_0 - Merton(A_0,D,t,sigma,r)) \n",
        "  D_1_10[t-1] = fsolve(lever, 5)"
      ],
      "metadata": {
        "id": "6xAGLN6Q9YnZ"
      },
      "execution_count": 32,
      "outputs": []
    },
    {
      "cell_type": "code",
      "source": [
        "#Plot D_0(T) as a function of T\n",
        "plt.plot(T_grid,D_10,label=\"leverage ratio=10\") \n",
        "plt.plot(T_grid,D_3,label=\"leverage ratio=3\")\n",
        "plt.plot(T_grid,D_1,label=\"leverage ratio=1\")\n",
        "plt.plot(T_grid,D_1_3,label=\"leverage ratio=1/3\")\n",
        "plt.plot(T_grid,D_1_10,label=\"leverage ratio=1/10\")\n",
        "plt.title(\"D\")\n",
        "plt.xlabel(\"T\")\n",
        "plt.ylabel(\"D_0\")\n",
        "plt.legend()\n",
        "plt.show()"
      ],
      "metadata": {
        "colab": {
          "base_uri": "https://localhost:8080/",
          "height": 295
        },
        "id": "kVX7cf8Jm_2N",
        "outputId": "54f91046-37c5-4f98-b082-2f2432f86286"
      },
      "execution_count": 33,
      "outputs": [
        {
          "output_type": "display_data",
          "data": {
            "text/plain": [
              "<Figure size 432x288 with 1 Axes>"
            ],
            "image/png": "[encoded data removed]"
          },
          "metadata": {
            "needs_background": "light"
          }
        }
      ]
    },
    {
      "cell_type": "markdown",
      "source": [
        "We have $D=D_0(1+i)^T.$ Then,\n",
        "\n",
        "$$\n",
        "i=\\left(\\frac{D_0(T)}{D}\\right)^{-1/T}-1.\n",
        "$$\n",
        "\n",
        "If assume continuous compound interest, then $D=D_0e^{iT} ⟺ i=-\\frac{1}{T}\\text{log}\\left(\\frac{D_0(T)}{D}\\right).$\n",
        "\n",
        "Credit spread is $i-r.$"
      ],
      "metadata": {
        "id": "ZmrCWkKMjh0j"
      }
    },
    {
      "cell_type": "code",
      "source": [
        "# Assume continuous compound\n",
        "spread_10 = [-1/t*np.log(Merton(A_0,D_10[t-1],t,sigma,r)/D_10[t-1]) - r for t in T_grid] #leverage ratio = 10\n",
        "spread_3 = [-1/t*np.log(Merton(A_0,D_3[t-1],t,sigma,r)/D_3[t-1]) - r for t in T_grid] #leverage ratio = 3\n",
        "spread_1 = [-1/t*np.log(Merton(A_0,D_1[t-1],t,sigma,r)/D_1[t-1]) - r for t in T_grid] #leverage ratio = 1\n",
        "spread_1_3 = [-1/t*np.log(Merton(A_0,D_1_3[t-1],t,sigma,r)/D_1_3[t-1]) - r for t in T_grid] #leverage ratio = 1/3\n",
        "spread_1_10 = [-1/t*np.log(Merton(A_0,D_1_10[t-1],t,sigma,r)/D_1_10[t-1]) - r for t in T_grid] #leverage ratio = 1/10\n",
        "spread_1_10"
      ],
      "metadata": {
        "id": "te7SNgKckexY"
      },
      "execution_count": null,
      "outputs": []
    },
    {
      "cell_type": "code",
      "source": [
        "#Plot credit spread as a function of T\n",
        "plt.plot(T_grid,spread_10,label=\"leverage ratio=10\")\n",
        "plt.plot(T_grid,spread_3,label=\"leverage ratio=3\")\n",
        "plt.plot(T_grid,spread_1,label=\"leverage ratio=1\")\n",
        "plt.plot(T_grid,spread_1_3,label=\"leverage ratio=1/3\")\n",
        "plt.plot(T_grid,spread_1_10,label=\"leverage ratio=1/10\")\n",
        "plt.title(\"Credit Spread against Debt Maturity\")\n",
        "plt.xlabel(\"Debt Maturity T\")\n",
        "plt.ylabel(\"Credit Spread\")\n",
        "plt.legend()\n",
        "plt.show()"
      ],
      "metadata": {
        "colab": {
          "base_uri": "https://localhost:8080/",
          "height": 295
        },
        "id": "8yeujAg2mQD2",
        "outputId": "a54b2a9e-691d-4900-dd1d-ef0705ea7820"
      },
      "execution_count": 35,
      "outputs": [
        {
          "output_type": "display_data",
          "data": {
            "text/plain": [
              "<Figure size 432x288 with 1 Axes>"
            ],
            "image/png": "[encoded data removed]"
          },
          "metadata": {
            "needs_background": "light"
          }
        }
      ]
    },
    {
      "cell_type": "markdown",
      "source": [
        "# Credit Risk Derivatives (constant interest rate)\n",
        "\n",
        "We have \n",
        "$$\n",
        "d\\lambda_t = \\alpha(\\beta-\\lambda_t)dt-\\gamma dW_t\n",
        "$$\n",
        "\n",
        "The premium leg of a CDS contract is \n",
        "$$\n",
        "PL = P \\sum_{k=0}^{K-1}e^{-r\\cdot t_k}e^{-A(0,t_k)\\lambda_0-D(0,t_k)}(t_{k+1}-t_{k})\n",
        "$$\n",
        "\n",
        "The default leg (or protection leg) is\n",
        "$$\n",
        "DL = Q(1-\\delta)\\sum_{k=1}^K e^{-r\\cdot t_k}\\left(e^{-A(0,t_{k-1})\\lambda_0-D(0,t_{k-1})} - e^{-A(0,t_{k})\\lambda_0-D(0,t_{k})}\\right)\n",
        "$$\n",
        "\n",
        "We get premium $P$ by solving $PL=DL.$"
      ],
      "metadata": {
        "id": "0YWV9RTto4Mr"
      }
    },
    {
      "cell_type": "code",
      "source": [
        "# Parameters\n",
        "r = 0.03\n",
        "alpha = 0.2\n",
        "beta = 0.015\n",
        "gamma = 0.02\n",
        "delta = 0.5\n",
        "lambda0 = 0.01\n",
        "Q = 1\n",
        "T = 2"
      ],
      "metadata": {
        "id": "L0YYYf0BrUOG"
      },
      "execution_count": 36,
      "outputs": []
    },
    {
      "cell_type": "code",
      "source": [
        "def anal_Vasicek(t,T,r_0):\n",
        "  A_t_T = (1-np.exp(-alpha*(T-t)))/alpha\n",
        "  D_t_T = (gamma**2/(2*alpha**2)-beta)*(A_t_T-(T-t))+(gamma**2/(4*alpha))*A_t_T**2\n",
        "  return np.exp(-r_0*A_t_T-D_t_T)"
      ],
      "metadata": {
        "id": "pWuSXlwYqLV9"
      },
      "execution_count": 37,
      "outputs": []
    },
    {
      "cell_type": "code",
      "source": [
        "h = 1/12\n",
        "time_grid = np.arange(0,T,h)\n",
        "PL = sum([np.exp(-r*t)*anal_Vasicek(0,t,lambda0)*h for t in time_grid])\n",
        "time_grid2 = np.arange(h,T+h,h)\n",
        "DL = Q*(1-delta)*sum([np.exp(-r*t)*(anal_Vasicek(0,t-h,lambda0)-anal_Vasicek(0,t,lambda0)) for t in time_grid2])\n",
        "P = DL/PL\n",
        "print(\"Premium is $%.4f\" % P)"
      ],
      "metadata": {
        "colab": {
          "base_uri": "https://localhost:8080/"
        },
        "id": "JdeUqNgmri51",
        "outputId": "2bf3a313-014c-457b-c922-8157236ee01d"
      },
      "execution_count": 38,
      "outputs": [
        {
          "output_type": "stream",
          "name": "stdout",
          "text": [
            "Premium is $0.0053\n"
          ]
        }
      ]
    },
    {
      "cell_type": "markdown",
      "source": [
        "Alternatively,\n",
        "$$\n",
        "\\begin{align*}\n",
        "PL &= \\mathbb{E}^{\\mathbb{Q}}\\left[\\int_0^T e^{-rt}e^{-\\int_0^t\\lambda_s ds}dt\\right] \\\\\n",
        "&=\\int_0^T e^{-rt}e^{-A(0,t)\\lambda_0-D(0,t)}dt\n",
        "\\end{align*}\n",
        "$$\n",
        "and\n",
        "$$\n",
        "\\begin{align*}\n",
        "DL &= \\mathbb{E}^{\\mathbb{Q}}\\left[\\int_0^T e^{-rt}e^{-\\int_0^t\\lambda_s ds}\\lambda_t dt\\right] \\\\\n",
        "&=\\mathbb{E}^{\\mathbb{Q}}\\left[\\int_0^T e^{-rt}e^{-A(0,t)\\lambda_0-D(0,t)}\\lambda_t dt\\right] \\\\\n",
        "&\\approx \\mathbb{E}^{\\mathbb{Q}}\\left[\\frac{1}{2}\\lambda_0+\\sum_{k=1}^{K-1}e^{-rt_k}e^{-A(0,t_k)\\lambda_0-D(0,t_k)}\\lambda_{t_k} + \\frac{1}{2}e^{-rT}e^{-A(0,T)\\lambda_0-D(0,T)}\\lambda_T\\right]\n",
        "\\end{align*}\n",
        "$$"
      ],
      "metadata": {
        "id": "Qq6uT-sW728H"
      }
    },
    {
      "cell_type": "code",
      "source": [
        "def MCDefaultleg(lambda0,h,T,N):\n",
        "  DL = [0] * N\n",
        "  for n in range(N):\n",
        "    k = int(T/h+1)\n",
        "    lambda_t = [lambda0] * k\n",
        "    D_arr = [lambda0] * k\n",
        "    Z = np.random.normal(0,1,k-1)\n",
        "    tgrid = np.arange(0,T+h,h)\n",
        "    for i in range(1,k):\n",
        "      lambda_t[i] = lambda_t[i-1] + alpha*(beta-lambda_t[i-1])*h + gamma*np.sqrt(h)*Z[i-1]\n",
        "      D_arr[i] =  np.exp(-r*tgrid[i])*anal_Vasicek(0,tgrid[i],lambda0)*lambda_t[i]\n",
        "    DL[n] = (0.5*D_arr[0]+sum(D_arr[1:-1])+0.5*D_arr[-1])*h\n",
        "  return np.average(DL)\n",
        "\n",
        "def integrandPL(t):\n",
        "  return np.exp(-r*t)*anal_Vasicek(0,t,lambda0)"
      ],
      "metadata": {
        "id": "z0nkjFvP0VI8"
      },
      "execution_count": 39,
      "outputs": []
    },
    {
      "cell_type": "code",
      "source": [
        "PL = quad(integrandPL,0,T)[0]\n",
        "DL = Q*(1-delta)*MCDefaultleg(lambda0,1/365,T,1000)\n",
        "P = DL/PL\n",
        "print(\"Premium is $%.4f\" % P)"
      ],
      "metadata": {
        "colab": {
          "base_uri": "https://localhost:8080/"
        },
        "id": "OrWqG86k4Fxt",
        "outputId": "bf4d140d-cec3-4994-b009-1060d9e7081f"
      },
      "execution_count": 57,
      "outputs": [
        {
          "output_type": "stream",
          "name": "stdout",
          "text": [
            "Premium is $0.0055\n"
          ]
        }
      ]
    },
    {
      "cell_type": "markdown",
      "source": [
        "# Credit Risk Derivatives (stochastic interest rate)\n",
        "Assume a stochastic interest rate $r_t$ and a stochastic default intensity $\\lambda_t:$\n",
        "$$\n",
        "\\begin{align*}\n",
        "r_t &= X_t \\\\\n",
        "\\lambda_t &= 0.1X_t + 0.1Y_t,\n",
        "\\end{align*}\n",
        "$$\n",
        "where\n",
        "$$\n",
        "\\begin{align*}\n",
        "dX_t &= \\alpha_1(\\beta_1-X_t)dt+\\gamma_1dW_t^{(1)} \\\\\n",
        "dY_t &= \\alpha_2(\\beta_2-Y_t)dt+\\gamma_2dW_t^{(2)}\n",
        "\\end{align*}\n",
        "$$\n",
        "$W_t^{(1)}$ and $W_t^{(2)}$ are independent Brownian motions.\n",
        "\n",
        "Now the premium leg \n",
        "$$\n",
        "\\begin{align*}\n",
        "PL &= P\\cdot \\sum_{k=0}^{K-1} \\mathbb{E}^{\\mathbb{Q}}\\left[e^{-\\int_0^{t_k}r_s+\\lambda_s\\,ds}\\right] (t_{k+1}-t_{k}) \\\\\n",
        "&= P\\cdot \\sum_{k=0}^{K-1} \\mathbb{E}^{\\mathbb{Q}}\\left[e^{-\\int_0^{t_k}X_s+0.1X_s+0.1Y_s\\,ds}\\right] (t_{k+1}-t_{k}) \\\\\n",
        "&= P\\cdot \\sum_{k=0}^{K-1} e^{-A(0,t_k,\\alpha_1,1.1\\beta_1,1.1\\gamma_1)X_0-D(0,t_k,\\alpha_1,1.1\\beta_1,1.1\\gamma_1)}e^{-A(0,t_k,\\alpha_2,0.1\\beta_2,0.1\\gamma_2)Y_0-D(0,t_k,\\alpha_2,0.1\\beta_2,0.1\\gamma_2)}(t_{k+1}-t_{k}) \n",
        "\\end{align*}\n",
        "$$\n",
        "The default leg\n",
        "$$\n",
        "\\begin{align*}\n",
        "DL &= Q(1-\\delta)\\sum_{k=1}^{K} \\mathbb{E}^{\\mathbb{Q}}\\left[e^{-\\int_0^{t_k}r_s\\,ds}\\left(\\mathbb{1}_{\\{\\tau\\geq t_{k-1}\\}}-\\mathbb{1}_{\\{\\tau\\geq t_{k}\\}}\\right)\\right] \\\\\n",
        "&= Q(1-\\delta)\\sum_{k=1}^{K} \\mathbb{E}^{\\mathbb{Q}}\\left[e^{-\\int_0^{t_k}r_s\\,ds}\\left(e^{-\\int_0^{t_{k-1}}\\lambda_s ds}-e^{-\\int_0^{t_k}\\lambda_s ds}\\right)\\right] \\\\\n",
        "&= Q(1-\\delta)\\sum_{k=1}^{K} \\mathbb{E}^{\\mathbb{Q}}\\left[e^{-\\int_0^{t_{k-1}}r_s+\\lambda_s\\,ds}e^{-\\int_{t_{k-1}}^{t_k}r_s\\,ds}\\right]-\\mathbb{E}^{\\mathbb{Q}}\\left[e^{-\\int_0^{t_k}r_s+\\lambda_s\\,ds}\\right] \\\\\n",
        "&= Q(1-\\delta)\\sum_{k=1}^{K} \\mathbb{E}^{\\mathbb{Q}}\\left[e^{-\\int_0^{t_{k-1}}1.1X_s+0.1Y_s\\,ds}\\mathbb{E}\\left[e^{-\\int_{t_{k-1}}^{t_k}X_s\\,ds}\\vert X_{t_{k-1}}\\right]\\right]-\\mathbb{E}^{\\mathbb{Q}}\\left[e^{-\\int_0^{t_k}1.1X_s+0.1Y_s\\,ds}\\right] \\\\\n",
        "&= Q(1-\\delta) \\left(\\underbrace{\\mathbb{E}^{\\mathbb{Q}}\\left[\\sum_{k=1}^{K} e^{-\\int_0^{t_{k-1}}1.1X_s+0.1Y_s\\,ds} e^{-A(t_{k-1},t_k,\\alpha_1,\\beta_1,\\gamma_1)X_{t_{k-1}}-D(t_{k-1},t_k,\\alpha_1,\\beta_1,\\gamma_1)}\\right]}_{=DL_1}-\\sum_{k=1}^{K}\\mathbb{E}^{\\mathbb{Q}}\\left[e^{-\\int_0^{t_k}1.1X_s\\,ds}\\right]\\mathbb{E}^{\\mathbb{Q}}\\left[e^{-\\int_0^{t_k}0.1Y_s\\,ds}\\right]\\right)\n",
        "\\end{align*}\n",
        "$$\n",
        "We can evaluate $DL_1$ by Monte Carlo simulations.\n"
      ],
      "metadata": {
        "id": "8wU3njNQBkjO"
      }
    },
    {
      "cell_type": "code",
      "source": [
        "# Parameters\n",
        "alpha1 = 0.5\n",
        "beta1 = 0.05\n",
        "gamma1 = 0.05\n",
        "alpha2 = 0.1\n",
        "beta2 = 0.1\n",
        "gamma2 = 0.025\n",
        "X0 = 0.03\n",
        "Y0 = 0.08\n",
        "delta = 0.5\n",
        "Q = 1\n",
        "T = 2"
      ],
      "metadata": {
        "id": "AsCpajDn6ntu"
      },
      "execution_count": 41,
      "outputs": []
    },
    {
      "cell_type": "code",
      "source": [
        "def anal_Vasicek2(t,T,r_0,alpha,beta,gamma):\n",
        "  A_t_T = (1-np.exp(-alpha*(T-t)))/alpha\n",
        "  D_t_T = (gamma**2/(2*alpha**2)-beta)*(A_t_T-(T-t))+(gamma**2/(4*alpha))*A_t_T**2\n",
        "  return np.exp(-r_0*A_t_T-D_t_T)"
      ],
      "metadata": {
        "id": "uzT4AGI-DLa1"
      },
      "execution_count": 42,
      "outputs": []
    },
    {
      "cell_type": "code",
      "source": [
        "N = 1000\n",
        "h = 1/12\n",
        "DL1 = [0]*N\n",
        "DL2 = [0]*N\n",
        "tgrid = np.arange(h,T+h,h)\n",
        "for n in range(N):\n",
        "  k = int(T/h)\n",
        "  # Initial values\n",
        "  X_t = [X0] * (k+1)\n",
        "  Y_t = [Y0] * (k+1)\n",
        "  Z_t = [1.1*X0+0.1*Y0]\n",
        "  CF = [0] * k\n",
        "  CF2 = [0] * k\n",
        "  Z1 = np.random.normal(0,1,k)\n",
        "  Z2 = np.random.normal(0,1,k)\n",
        "  CF[0] = 1\n",
        "  for i in range(1,k):\n",
        "    # Simulate X_t and Y_t from t=0 --> t_1 --> ... --> t_{k-1} \n",
        "    X_t[i] = X_t[i-1] + alpha1*(beta1-X_t[i-1])*h + gamma1*np.sqrt(h)*Z1[i-1]\n",
        "    Y_t[i] = Y_t[i-1] + alpha2*(beta2-Y_t[i-1])*h + gamma2*np.sqrt(h)*Z2[i-1]\n",
        "    Z_t = np.append(Z_t,1.1*X_t[i] + 0.1*Y_t[i]) # Z_t = 1.1X_t + 0.1Y_t\n",
        "    # Approximate \\int_0^{t_{k-1}} Z_s ds by trapezoidal rule\n",
        "    Zhat = (0.5*Z_t[0] + sum(Z_t[1:-1]) + 0.5*Z_t[-1]) * h\n",
        "    # Evaluate cash flows at t = t_1, ... , t_K\n",
        "    CF[i] = np.exp(-Zhat)*anal_Vasicek2(tgrid[i-1],tgrid[i],X_t[i],alpha1,beta1,gamma1)\n",
        "    CF2[i-1] = np.exp(-Zhat)\n",
        "  DL1[n] = sum(CF)\n",
        "  X_t[k] = X_t[k-1] + alpha1*(beta1-X_t[k-1])*h + gamma1*np.sqrt(h)*Z1[k-1]\n",
        "  Y_t[k] = Y_t[k-1] + alpha2*(beta2-Y_t[k-1])*h + gamma2*np.sqrt(h)*Z2[k-1]\n",
        "  Z_t = np.append(Z_t,1.1*X_t[k] + 0.1*Y_t[k])\n",
        "  Zhat = (0.5*Z_t[0] + sum(Z_t[1:-1]) + 0.5*Z_t[-1]) * h\n",
        "  CF2[k-1] = np.exp(-Zhat)\n",
        "  DL2[n] = sum(CF2) "
      ],
      "metadata": {
        "id": "jqypTyMiPpo9"
      },
      "execution_count": 85,
      "outputs": []
    },
    {
      "cell_type": "code",
      "source": [
        "DL = Q*(1-delta)*(np.average(DL1) - np.average(DL2))\n",
        "PL = sum([anal_Vasicek2(0,t,1.1*X0,alpha1,1.1*beta1,1.1*gamma1) * anal_Vasicek2(0,t,0.1*Y0,alpha2,0.1*beta2,0.1*gamma2) * h for t in time_grid])\n",
        "P = DL/PL\n",
        "print(\"Premium is $%.4f\" % P)"
      ],
      "metadata": {
        "colab": {
          "base_uri": "https://localhost:8080/"
        },
        "id": "bsUfRWkWHPhz",
        "outputId": "ea745554-f606-4ed6-a8ca-8cc07e49b585"
      },
      "execution_count": 84,
      "outputs": [
        {
          "output_type": "stream",
          "name": "stdout",
          "text": [
            "Premium is $0.0066\n"
          ]
        }
      ]
    }
  ]
}