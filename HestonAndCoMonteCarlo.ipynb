{
  "nbformat": 4,
  "nbformat_minor": 0,
  "metadata": {
    "colab": {
      "name": "HestonAndCoMonteCarlo.ipynb",
      "provenance": [],
      "collapsed_sections": [],
      "authorship_tag": "ABX9TyPhhZkTW0dJGDtPpn5xAduk",
      "include_colab_link": true
    },
    "kernelspec": {
      "name": "python3",
      "display_name": "Python 3"
    },
    "language_info": {
      "name": "python"
    }
  },
  "cells": [
    {
      "cell_type": "markdown",
      "metadata": {
        "id": "view-in-github",
        "colab_type": "text"
      },
      "source": [
        "<a href=\"https://colab.research.google.com/github/danielbauer1979/FI830/blob/main/HestonAndCoMonteCarlo.ipynb\" target=\"_parent\"><img src=\"https://colab.research.google.com/assets/colab-badge.svg\" alt=\"Open In Colab\"/></a>"
      ]
    },
    {
      "cell_type": "markdown",
      "source": [
        "**Monte Carlo Pricing in the Heston Model**"
      ],
      "metadata": {
        "id": "OzIM-BL4R-JE"
      }
    },
    {
      "cell_type": "markdown",
      "source": [
        "This codebook shows how to use Monte Carlo to derive option prices in the Heston model. "
      ],
      "metadata": {
        "id": "c1s2rh9SSG_L"
      }
    },
    {
      "cell_type": "code",
      "source": [
        "import pandas as pd\n",
        "import numpy as np\n",
        "from scipy.stats import norm\n",
        "from scipy.optimize import fsolve"
      ],
      "metadata": {
        "id": "AM7L3i1j_M1X"
      },
      "execution_count": null,
      "outputs": []
    },
    {
      "cell_type": "markdown",
      "source": [
        "Let's grab the parameters from the previous codebook."
      ],
      "metadata": {
        "id": "o89aGVf9T4WI"
      }
    },
    {
      "cell_type": "code",
      "source": [
        "-"
      ],
      "metadata": {
        "id": "T2WdXSq4_cjE",
        "outputId": "533ca4bf-104d-4106-9f43-e853dc699ca2",
        "colab": {
          "base_uri": "https://localhost:8080/",
          "height": 131
        }
      },
      "execution_count": null,
      "outputs": [
        {
          "output_type": "error",
          "ename": "SyntaxError",
          "evalue": "ignored",
          "traceback": [
            "\u001b[0;36m  File \u001b[0;32m\"<ipython-input-1-60215a10e730>\"\u001b[0;36m, line \u001b[0;32m1\u001b[0m\n\u001b[0;31m    -\u001b[0m\n\u001b[0m     ^\u001b[0m\n\u001b[0;31mSyntaxError\u001b[0m\u001b[0;31m:\u001b[0m invalid syntax\n"
          ]
        }
      ]
    },
    {
      "cell_type": "markdown",
      "source": [
        "Then, let's simulate the combined stock and volatility paths similar to when we simulated the exchange option:"
      ],
      "metadata": {
        "id": "z1hLNfc2gc7m"
      }
    },
    {
      "cell_type": "code",
      "source": [
        "numbdays = 365\n",
        "NUM = 20000\n",
        "Payoff_1 = np.zeros(NUM)\n",
        "Payoff_2 = np.zeros(NUM)\n",
        "np.random.seed(101)\n",
        "stockpaths = np.zeros((NUM,numbdays+1))\n",
        "volpaths = np.zeros((NUM,numbdays+1))\n",
        "for i in range(NUM):\n",
        "  stockpaths[i,0] = S_0\n",
        "  volpaths[i,0] = v_0\n",
        "  for t in range (numbdays):\n",
        "    normal1 = np.random.randn(1)\n",
        "    normalHelp = np.random.randn(1)\n",
        "    normal2 = rho * normal1 + np.sqrt(1 - rho * rho) * normalHelp\n",
        "    stockpaths[i,t+1] = stockpaths[i,t] * (1 + r * T/numbdays + np.sqrt(T/numbdays * np.max([volpaths[i,t],0])) * normal1)\n",
        "    volpaths[i,t+1] = volpaths[i,t] + kappa * (theta - volpaths[i,t]) * T/numbdays + np.sqrt(T/numbdays * np.max([volpaths[i,t],0])) * volvol * normal2\n",
        "  Payoff_1[i] = np.max([stockpaths[i,numbdays] - strike,0])\n",
        "  Payoff_2[i] = np.sqrt(np.max([volpaths[i,numbdays],0]))\n",
        "Price1 = np.exp(-r*T) * Payoff_1.mean()\n",
        "print(Price1)\n",
        "Price2 = np.exp(-r*T) * Payoff_2.mean()\n",
        "print(Price2)"
      ],
      "metadata": {
        "colab": {
          "base_uri": "https://localhost:8080/"
        },
        "id": "egkz-ClMZbsA",
        "outputId": "e9b069b0-9d0d-4bb1-e50b-45c3bce59e46"
      },
      "execution_count": null,
      "outputs": [
        {
          "output_type": "stream",
          "name": "stdout",
          "text": [
            "407.9365599665937\n",
            "0.16497225172138294\n"
          ]
        }
      ]
    },
    {
      "cell_type": "code",
      "source": [
        "def BSCall(r_loc,sigma_loc,T_loc,S_loc,K_loc):\n",
        "  d1 = (np.log(S_loc/K_loc) + (r + sigma_loc*sigma_loc)*T_loc)/(sigma_loc * np.sqrt(T_loc))\n",
        "  d2 = d1 - sigma_loc * np.sqrt(T_loc)\n",
        "  return(S_loc * norm.cdf(d1) - K_loc * np.exp(-r * T_loc) * norm.cdf(d2))\n",
        "BSCall(r,0.1963,T,S_0,strike)"
      ],
      "metadata": {
        "colab": {
          "base_uri": "https://localhost:8080/"
        },
        "id": "tTGRuXsh2U9e",
        "outputId": "43c426eb-20b3-44dc-82a7-31d72eb8d6d8"
      },
      "execution_count": null,
      "outputs": [
        {
          "output_type": "execute_result",
          "data": {
            "text/plain": [
              "427.0908806842167"
            ]
          },
          "metadata": {},
          "execution_count": 20
        }
      ]
    },
    {
      "cell_type": "code",
      "source": [
        "BSP = lambda sig: BSCall(r,sig,T,S_0,strike) - Price1\n",
        "implied_vol = fsolve(BSP, 0.1963)\n",
        "print(implied_vol)"
      ],
      "metadata": {
        "colab": {
          "base_uri": "https://localhost:8080/"
        },
        "id": "4wkto_1l5RD3",
        "outputId": "1afccdfc-c022-4db0-b8e4-96d0c308df66"
      },
      "execution_count": null,
      "outputs": [
        {
          "output_type": "stream",
          "name": "stdout",
          "text": [
            "[0.18528966]\n"
          ]
        }
      ]
    }
  ]
}