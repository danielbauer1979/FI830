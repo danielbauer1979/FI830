{
  "nbformat": 4,
  "nbformat_minor": 0,
  "metadata": {
    "colab": {
      "name": "HestonPricer.ipynb",
      "provenance": [],
      "collapsed_sections": [],
      "authorship_tag": "ABX9TyP6mZmPfaJqkAhoTFVzUoF6",
      "include_colab_link": true
    },
    "kernelspec": {
      "name": "python3",
      "display_name": "Python 3"
    },
    "language_info": {
      "name": "python"
    }
  },
  "cells": [
    {
      "cell_type": "markdown",
      "metadata": {
        "id": "view-in-github",
        "colab_type": "text"
      },
      "source": [
        "<a href=\"https://colab.research.google.com/github/danielbauer1979/FI830/blob/main/HestonPricer.ipynb\" target=\"_parent\"><img src=\"https://colab.research.google.com/assets/colab-badge.svg\" alt=\"Open In Colab\"/></a>"
      ]
    },
    {
      "cell_type": "markdown",
      "source": [
        "**HESTON OPTION PRICING**"
      ],
      "metadata": {
        "id": "OzIM-BL4R-JE"
      }
    },
    {
      "cell_type": "markdown",
      "source": [
        "This codebook shows how to derive prices for simple vanilla European options given a set of parameters."
      ],
      "metadata": {
        "id": "c1s2rh9SSG_L"
      }
    },
    {
      "cell_type": "markdown",
      "source": [
        "We make use of [quantlib](https://pypi.org/project/QuantLib/#description), a library for quantitative finance that is natively in C++ but can be pulled into Python. We load it in this Colab notebook via [pip](https://pip.pypa.io/en/stable/) the package istaller for Python."
      ],
      "metadata": {
        "id": "mN8CwjZfSW7w"
      }
    },
    {
      "cell_type": "code",
      "source": [
        "!pip install QuantLib"
      ],
      "metadata": {
        "colab": {
          "base_uri": "https://localhost:8080/"
        },
        "id": "EuJGc9Cj-_aS",
        "outputId": "b90e3d7b-eead-4892-f2ab-2226b92f6012"
      },
      "execution_count": 1,
      "outputs": [
        {
          "output_type": "stream",
          "name": "stdout",
          "text": [
            "Collecting QuantLib\n",
            "  Downloading QuantLib-1.25-cp37-cp37m-manylinux_2_12_x86_64.manylinux2010_x86_64.whl (17.9 MB)\n",
            "\u001b[K     |████████████████████████████████| 17.9 MB 4.5 MB/s \n",
            "\u001b[?25hInstalling collected packages: QuantLib\n",
            "Successfully installed QuantLib-1.25\n"
          ]
        }
      ]
    },
    {
      "cell_type": "markdown",
      "source": [
        "Now since Python is a general purpose programming language, we have to pull ib functionality from libraries. The most common ones for us are [pandas](https://pandas.pydata.org/), the data analysis library and math and [numpy](https://numpy.org/), which are mathematical libraries. And of course we have to import Quantlib, which we just installed (many packages such as pandas and numpy are natively installed in the Colab environment)."
      ],
      "metadata": {
        "id": "toZmgnYWTAH1"
      }
    },
    {
      "cell_type": "code",
      "source": [
        "import pandas as pd\n",
        "import numpy as np\n",
        "from datetime import datetime\n",
        "from math import sqrt, exp\n",
        "import QuantLib as ql"
      ],
      "metadata": {
        "id": "AM7L3i1j_M1X"
      },
      "execution_count": 2,
      "outputs": []
    },
    {
      "cell_type": "markdown",
      "source": [
        "Now we are ready to define parameters. I use values from the literature. Note, for example, that theta = 0.035 for the variance implies that the mean reversion level (long-term value) for volatility is sqrt(0.035)=18.7%, which seems reasonable."
      ],
      "metadata": {
        "id": "o89aGVf9T4WI"
      }
    },
    {
      "cell_type": "code",
      "source": [
        "S_0 = 4456.18\n",
        "v_0 = 0.2357*0.2357\n",
        "kappa = 2.75\n",
        "theta = 0.035\n",
        "volvol = 0.425\n",
        "rho = -0.4644\n",
        "r = 0.0152\n",
        "dividend = 0\n",
        "today = ql.Date(23,3,2022)\n",
        "day_count = ql.Actual365Fixed()"
      ],
      "metadata": {
        "id": "T2WdXSq4_cjE"
      },
      "execution_count": 16,
      "outputs": []
    },
    {
      "cell_type": "code",
      "source": [
        "strike = 4500\n",
        "maturity = ql.Date(16,3,2023)"
      ],
      "metadata": {
        "id": "I1U7Tx5UAuqR"
      },
      "execution_count": 17,
      "outputs": []
    },
    {
      "cell_type": "markdown",
      "source": [
        "Now to use the functionality of quantlib, we have to follow its defintions. This requires reading documentation and looking at examples. Gladly, I did that for you :-)"
      ],
      "metadata": {
        "id": "M8KE9U6SUdMW"
      }
    },
    {
      "cell_type": "code",
      "source": [
        "initial_value = ql.QuoteHandle(ql.SimpleQuote(S_0))\n",
        "discount_curve = ql.YieldTermStructureHandle(ql.FlatForward(today,r,day_count))\n",
        "dividend_yield = ql.YieldTermStructureHandle(ql.FlatForward(today,dividend,day_count))\n",
        "heston_process = ql.HestonProcess(discount_curve,dividend_yield,initial_value,v_0,kappa,theta,volvol,rho)"
      ],
      "metadata": {
        "id": "GodrIow9BvKL"
      },
      "execution_count": 18,
      "outputs": []
    },
    {
      "cell_type": "code",
      "source": [
        "call_payoff = ql.PlainVanillaPayoff(ql.Option.Call, strike) \n",
        "call_exercise = ql.EuropeanExercise(maturity)\n",
        "option = ql.VanillaOption(call_payoff, call_exercise)\n",
        "engine = ql.AnalyticHestonEngine(ql.HestonModel(heston_process),0.001,1000)\n",
        "option.setPricingEngine(engine)\n",
        "price = option.NPV()\n",
        "print (\"option_price\", round(price,2))"
      ],
      "metadata": {
        "colab": {
          "base_uri": "https://localhost:8080/"
        },
        "id": "Pz2S8S6BDR7F",
        "outputId": "ef4ab96f-2195-46e3-b4fe-fe230669e068"
      },
      "execution_count": 26,
      "outputs": [
        {
          "output_type": "stream",
          "name": "stdout",
          "text": [
            "option_price 354.64\n"
          ]
        }
      ]
    },
    {
      "cell_type": "markdown",
      "source": [
        "...so that's the option price. Easy enough :-)"
      ],
      "metadata": {
        "id": "WUYvaVZ2Uvk9"
      }
    },
    {
      "cell_type": "markdown",
      "source": [
        "Let's also determine the option vega. Here there is some ambiguity, as the Heston model has variance as an input rather than volatility. So in our derivations, we showed that the relevant sensitivity/greek here is the sensitivity to the variance -- recall, we need to invest: \n",
        "$$\n",
        "\\frac{\\frac{\\partial V}{\\partial v}}{\\frac{\\partial HedgingInstrument}{\\partial v}}\n",
        "$$\n",
        "in the hedging instrument. To derive the sensitivity to the volatility, we can use the approximation from [here](https://quant.stackexchange.com/questions/60457/calculating-vega-in-heston)."
      ],
      "metadata": {
        "id": "fHBgXd0JFDUg"
      }
    },
    {
      "cell_type": "code",
      "source": [
        "bump = 0.0001\n",
        "heston_process = ql.HestonProcess(discount_curve,dividend_yield,initial_value,v_0+bump,kappa,theta,volvol,rho)\n",
        "engine = ql.AnalyticHestonEngine(ql.HestonModel(heston_process),0.001,1000)\n",
        "option.setPricingEngine(engine)\n",
        "price2 = option.NPV()\n",
        "print (\"option_price(bumped)\", round(price2,2))\n",
        "vega = (price2-price)/bump\n",
        "print (\"option_vega\", round(vega,2))\n",
        "vol_vega = vega * 2 * sqrt(v_0)\n",
        "print (\"option_vega(sigma)\", round(vol_vega,2))"
      ],
      "metadata": {
        "id": "pSdFLne4DzWH",
        "outputId": "439cd891-1b6e-44d0-8fdb-4739897700e8",
        "colab": {
          "base_uri": "https://localhost:8080/"
        }
      },
      "execution_count": 32,
      "outputs": [
        {
          "output_type": "stream",
          "name": "stdout",
          "text": [
            "option_price(bumped) 354.78\n",
            "option_vega 1456.53\n",
            "option_vega(sigma) 686.61\n"
          ]
        }
      ]
    },
    {
      "cell_type": "markdown",
      "source": [
        "Let's get the Black-Scholes implied volatility for that option."
      ],
      "metadata": {
        "id": "daRO5MibVPzr"
      }
    },
    {
      "cell_type": "code",
      "source": [
        "sigma = ql.BlackVolTermStructureHandle(ql.BlackConstantVol(today, ql.TARGET(), 0.20, day_count))\n",
        "process = ql.BlackScholesMertonProcess(initial_value,dividend_yield,discount_curve,sigma)"
      ],
      "metadata": {
        "id": "_ulh8sZ0VWzl"
      },
      "execution_count": 7,
      "outputs": []
    },
    {
      "cell_type": "code",
      "source": [
        "option.impliedVolatility(price, process)"
      ],
      "metadata": {
        "colab": {
          "base_uri": "https://localhost:8080/"
        },
        "id": "NGd6ICNzWO3d",
        "outputId": "026a7f2a-571b-492b-ab6f-d37713575eb8"
      },
      "execution_count": 8,
      "outputs": [
        {
          "output_type": "execute_result",
          "data": {
            "text/plain": [
              "0.19569801508385637"
            ]
          },
          "metadata": {},
          "execution_count": 8
        }
      ]
    }
  ]
}