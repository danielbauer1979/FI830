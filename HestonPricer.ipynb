{
  "nbformat": 4,
  "nbformat_minor": 0,
  "metadata": {
    "colab": {
      "provenance": [],
      "authorship_tag": "ABX9TyPt4mE3OHjAy2ooe5MX3r2E",
      "include_colab_link": true
    },
    "kernelspec": {
      "name": "python3",
      "display_name": "Python 3"
    },
    "language_info": {
      "name": "python"
    }
  },
  "cells": [
    {
      "cell_type": "markdown",
      "metadata": {
        "id": "view-in-github",
        "colab_type": "text"
      },
      "source": [
        "<a href=\"https://colab.research.google.com/github/danielbauer1979/FI830/blob/main/HestonPricer.ipynb\" target=\"_parent\"><img src=\"https://colab.research.google.com/assets/colab-badge.svg\" alt=\"Open In Colab\"/></a>"
      ]
    },
    {
      "cell_type": "markdown",
      "source": [
        "**HESTON OPTION PRICING**"
      ],
      "metadata": {
        "id": "OzIM-BL4R-JE"
      }
    },
    {
      "cell_type": "markdown",
      "source": [
        "This codebook shows how to derive prices for simple vanilla European options given a set of parameters."
      ],
      "metadata": {
        "id": "c1s2rh9SSG_L"
      }
    },
    {
      "cell_type": "markdown",
      "source": [
        "We make use of [quantlib](https://pypi.org/project/QuantLib/#description), a library for quantitative finance that is natively in C++ but can be pulled into Python. We load it in this Colab notebook via [pip](https://pip.pypa.io/en/stable/) the package istaller for Python."
      ],
      "metadata": {
        "id": "mN8CwjZfSW7w"
      }
    },
    {
      "cell_type": "code",
      "source": [
        "!pip install QuantLib"
      ],
      "metadata": {
        "colab": {
          "base_uri": "https://localhost:8080/"
        },
        "id": "EuJGc9Cj-_aS",
        "outputId": "4a2e8517-12d3-4cf9-dcb2-7f8f7adbfcc7"
      },
      "execution_count": 1,
      "outputs": [
        {
          "output_type": "stream",
          "name": "stdout",
          "text": [
            "Looking in indexes: https://pypi.org/simple, https://us-python.pkg.dev/colab-wheels/public/simple/\n",
            "Collecting QuantLib\n",
            "  Downloading QuantLib-1.29-cp39-cp39-manylinux_2_17_x86_64.manylinux2014_x86_64.whl (18.9 MB)\n",
            "\u001b[2K     \u001b[90m━━━━━━━━━━━━━━━━━━━━━━━━━━━━━━━━━━━━━━━━\u001b[0m \u001b[32m18.9/18.9 MB\u001b[0m \u001b[31m16.2 MB/s\u001b[0m eta \u001b[36m0:00:00\u001b[0m\n",
            "\u001b[?25hInstalling collected packages: QuantLib\n",
            "Successfully installed QuantLib-1.29\n"
          ]
        }
      ]
    },
    {
      "cell_type": "markdown",
      "source": [
        "Now since Python is a general purpose programming language, we have to pull ib functionality from libraries. The most common ones for us are [pandas](https://pandas.pydata.org/), the data analysis library and math and [numpy](https://numpy.org/), which are mathematical libraries. And of course we have to import Quantlib, which we just installed (many packages such as pandas and numpy are natively installed in the Colab environment)."
      ],
      "metadata": {
        "id": "toZmgnYWTAH1"
      }
    },
    {
      "cell_type": "code",
      "source": [
        "import pandas as pd\n",
        "import numpy as np\n",
        "from datetime import datetime\n",
        "from math import sqrt, exp\n",
        "import QuantLib as ql"
      ],
      "metadata": {
        "id": "AM7L3i1j_M1X"
      },
      "execution_count": 2,
      "outputs": []
    },
    {
      "cell_type": "markdown",
      "source": [
        "Now we are ready to define parameters. I use values from the literature. Note, for example, that theta = 0.035 for the variance implies that the mean reversion level (long-term value) for volatility is sqrt(0.035)=18.7%, which seems reasonable."
      ],
      "metadata": {
        "id": "o89aGVf9T4WI"
      }
    },
    {
      "cell_type": "code",
      "source": [
        "S_0 = 4100.60\n",
        "v_0 = 0.19*0.19\n",
        "kappa = 2.75\n",
        "theta = 0.035\n",
        "volvol = 0.425\n",
        "rho = -0.4644\n",
        "r = 0.045\n",
        "dividend = 0\n",
        "today = ql.Date(4,4,2023)\n",
        "day_count = ql.Actual365Fixed()"
      ],
      "metadata": {
        "id": "T2WdXSq4_cjE"
      },
      "execution_count": 3,
      "outputs": []
    },
    {
      "cell_type": "code",
      "source": [
        "strike = 4100\n",
        "maturity = ql.Date(4,4,2024)"
      ],
      "metadata": {
        "id": "I1U7Tx5UAuqR"
      },
      "execution_count": 7,
      "outputs": []
    },
    {
      "cell_type": "markdown",
      "source": [
        "Now to use the functionality of quantlib, we have to follow its defintions. This requires reading documentation and looking at examples. Gladly, I did that for you :-)"
      ],
      "metadata": {
        "id": "M8KE9U6SUdMW"
      }
    },
    {
      "cell_type": "code",
      "source": [
        "initial_value = ql.QuoteHandle(ql.SimpleQuote(S_0))\n",
        "discount_curve = ql.YieldTermStructureHandle(ql.FlatForward(today,r,day_count))\n",
        "dividend_yield = ql.YieldTermStructureHandle(ql.FlatForward(today,dividend,day_count))\n",
        "heston_process = ql.HestonProcess(discount_curve,dividend_yield,initial_value,v_0,kappa,theta,volvol,rho)"
      ],
      "metadata": {
        "id": "GodrIow9BvKL"
      },
      "execution_count": 8,
      "outputs": []
    },
    {
      "cell_type": "code",
      "source": [
        "call_payoff = ql.PlainVanillaPayoff(ql.Option.Call, strike) \n",
        "call_exercise = ql.EuropeanExercise(maturity)\n",
        "option = ql.VanillaOption(call_payoff, call_exercise)\n",
        "engine = ql.AnalyticHestonEngine(ql.HestonModel(heston_process),0.001,1000)\n",
        "option.setPricingEngine(engine)\n",
        "price = option.NPV()\n",
        "print (\"option_price\", round(price,2))"
      ],
      "metadata": {
        "colab": {
          "base_uri": "https://localhost:8080/"
        },
        "id": "Pz2S8S6BDR7F",
        "outputId": "c7277b15-4c7c-4c66-ddbd-03e2846e4192"
      },
      "execution_count": 9,
      "outputs": [
        {
          "output_type": "stream",
          "name": "stdout",
          "text": [
            "option_price 393.55\n"
          ]
        }
      ]
    },
    {
      "cell_type": "markdown",
      "source": [
        "...so that's the option price. Easy enough :-)"
      ],
      "metadata": {
        "id": "WUYvaVZ2Uvk9"
      }
    },
    {
      "cell_type": "markdown",
      "source": [
        "Let's also determine the option vega. Here there is some ambiguity, as the Heston model has variance as an input rather than volatility. So in our derivations, we showed that the relevant sensitivity/greek here is the sensitivity to the variance -- recall, we need to invest: \n",
        "$$\n",
        "\\frac{\\frac{\\partial V}{\\partial v}}{\\frac{\\partial HedgingInstrument}{\\partial v}}\n",
        "$$\n",
        "in the hedging instrument. To derive the sensitivity to the volatility, we can use the approximation from [here](https://quant.stackexchange.com/questions/60457/calculating-vega-in-heston)."
      ],
      "metadata": {
        "id": "fHBgXd0JFDUg"
      }
    },
    {
      "cell_type": "code",
      "source": [
        "bump = 0.0001\n",
        "heston_process = ql.HestonProcess(discount_curve,dividend_yield,initial_value,v_0+bump,kappa,theta,volvol,rho)\n",
        "engine = ql.AnalyticHestonEngine(ql.HestonModel(heston_process),0.001,1000)\n",
        "option.setPricingEngine(engine)\n",
        "price2 = option.NPV()\n",
        "print (\"option_price(bumped)\", round(price2,2))\n",
        "vega = (price2-price)/bump\n",
        "print (\"option_vega\", round(vega,2))\n",
        "vol_vega = vega * 2 * sqrt(v_0)\n",
        "print (\"option_vega(sigma)\", round(vol_vega,2))"
      ],
      "metadata": {
        "colab": {
          "base_uri": "https://localhost:8080/"
        },
        "id": "pSdFLne4DzWH",
        "outputId": "0de62341-6390-4e95-eac9-2ca010829375"
      },
      "execution_count": 10,
      "outputs": [
        {
          "output_type": "stream",
          "name": "stdout",
          "text": [
            "option_price(bumped) 393.69\n",
            "option_vega 1353.96\n",
            "option_vega(sigma) 514.5\n"
          ]
        }
      ]
    },
    {
      "cell_type": "markdown",
      "source": [
        "Let's get the Black-Scholes implied volatility for that option."
      ],
      "metadata": {
        "id": "daRO5MibVPzr"
      }
    },
    {
      "cell_type": "code",
      "source": [
        "sigma = ql.BlackVolTermStructureHandle(ql.BlackConstantVol(today, ql.TARGET(), 0.20, day_count))\n",
        "process = ql.BlackScholesMertonProcess(initial_value,dividend_yield,discount_curve,sigma)"
      ],
      "metadata": {
        "id": "_ulh8sZ0VWzl"
      },
      "execution_count": 12,
      "outputs": []
    },
    {
      "cell_type": "code",
      "source": [
        "bs_vol = option.impliedVolatility(price, process)\n",
        "print (\"Option_bs_implied_vol:\", round(bs_vol,4))"
      ],
      "metadata": {
        "colab": {
          "base_uri": "https://localhost:8080/"
        },
        "id": "NGd6ICNzWO3d",
        "outputId": "1d751f8d-cc66-4151-cc54-87a53ae0cfd6"
      },
      "execution_count": 13,
      "outputs": [
        {
          "output_type": "stream",
          "name": "stdout",
          "text": [
            "Option_bs_implied_vol: 0.1838\n"
          ]
        }
      ]
    },
    {
      "cell_type": "markdown",
      "source": [
        "For comparison, let's calculate the vega in the Black-Scholes model:"
      ],
      "metadata": {
        "id": "P11C4Nb5G_1v"
      }
    },
    {
      "cell_type": "code",
      "source": [
        "sigma = ql.BlackVolTermStructureHandle(ql.BlackConstantVol(today, ql.TARGET(), bs_vol+bump, day_count))\n",
        "process = ql.BlackScholesMertonProcess(initial_value,dividend_yield,discount_curve,sigma)\n",
        "engine = ql.AnalyticEuropeanEngine(process)\n",
        "option.setPricingEngine(engine)\n",
        "price_bs_bumped = option.NPV()\n",
        "bs_vega = (price_bs_bumped - price)/bump\n",
        "print (\"Vega in the BS model:\", round(bs_vega,4))"
      ],
      "metadata": {
        "colab": {
          "base_uri": "https://localhost:8080/"
        },
        "id": "Vu35H9zfG9h-",
        "outputId": "b3254f49-050f-46e0-e982-951d7c233ed6"
      },
      "execution_count": 14,
      "outputs": [
        {
          "output_type": "stream",
          "name": "stdout",
          "text": [
            "Vega in the BS model: 1797.7897\n"
          ]
        }
      ]
    },
    {
      "cell_type": "markdown",
      "source": [
        "So it looks quite different. One of the points to note here is that for the Heston model, we just bumb the initial value -- the mean-reverting process will pull back the vol to the long term level, even if we bump initially, on average. For the Black Scholes bump we have a permanent change in the vol."
      ],
      "metadata": {
        "id": "hqmhfxlyI9bj"
      }
    }
  ]
}