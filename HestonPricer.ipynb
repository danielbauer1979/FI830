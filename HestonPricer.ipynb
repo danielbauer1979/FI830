{
  "nbformat": 4,
  "nbformat_minor": 0,
  "metadata": {
    "colab": {
      "name": "HestonPricer.ipynb",
      "provenance": [],
      "collapsed_sections": [],
      "authorship_tag": "ABX9TyO1cMfz/U65nG97VypN8eDG",
      "include_colab_link": true
    },
    "kernelspec": {
      "name": "python3",
      "display_name": "Python 3"
    },
    "language_info": {
      "name": "python"
    }
  },
  "cells": [
    {
      "cell_type": "markdown",
      "metadata": {
        "id": "view-in-github",
        "colab_type": "text"
      },
      "source": [
        "<a href=\"https://colab.research.google.com/github/danielbauer1979/FI830/blob/main/HestonPricer.ipynb\" target=\"_parent\"><img src=\"https://colab.research.google.com/assets/colab-badge.svg\" alt=\"Open In Colab\"/></a>"
      ]
    },
    {
      "cell_type": "code",
      "source": [
        "!pip install QuantLib"
      ],
      "metadata": {
        "colab": {
          "base_uri": "https://localhost:8080/"
        },
        "id": "EuJGc9Cj-_aS",
        "outputId": "3c1db2ef-d23d-4b57-a0ae-17f4e1502400"
      },
      "execution_count": null,
      "outputs": [
        {
          "output_type": "stream",
          "name": "stdout",
          "text": [
            "Collecting QuantLib\n",
            "  Downloading QuantLib-1.25-cp37-cp37m-manylinux_2_12_x86_64.manylinux2010_x86_64.whl (17.9 MB)\n",
            "\u001b[K     |████████████████████████████████| 17.9 MB 219 kB/s \n",
            "\u001b[?25hInstalling collected packages: QuantLib\n",
            "Successfully installed QuantLib-1.25\n"
          ]
        }
      ]
    },
    {
      "cell_type": "code",
      "source": [
        "import pandas as pd\n",
        "import numpy as np\n",
        "from datetime import datetime\n",
        "from math import sqrt, exp\n",
        "import QuantLib as ql"
      ],
      "metadata": {
        "id": "AM7L3i1j_M1X"
      },
      "execution_count": null,
      "outputs": []
    },
    {
      "cell_type": "code",
      "source": [
        "S_0 = 4456.18\n",
        "v_0 = 0.2357*0.2357\n",
        "kappa = 2.75\n",
        "theta = 0.035\n",
        "volvol = 0.425\n",
        "rho = -0.4644\n",
        "r = 0.0152\n",
        "dividend = 0\n",
        "today = ql.Date(23,3,2022)\n",
        "day_count = ql.Actual365Fixed()"
      ],
      "metadata": {
        "id": "T2WdXSq4_cjE"
      },
      "execution_count": null,
      "outputs": []
    },
    {
      "cell_type": "code",
      "source": [
        "strike = 4500\n",
        "maturity = ql.Date(16,3,2023)"
      ],
      "metadata": {
        "id": "I1U7Tx5UAuqR"
      },
      "execution_count": null,
      "outputs": []
    },
    {
      "cell_type": "code",
      "source": [
        "initial_value = ql.QuoteHandle(ql.SimpleQuote(S_0))\n",
        "discount_curve = ql.YieldTermStructureHandle(ql.FlatForward(today,r,day_count))\n",
        "dividend_yield = ql.YieldTermStructureHandle(ql.FlatForward(today,dividend,day_count))\n",
        "heston_process = ql.HestonProcess(discount_curve,dividend_yield,initial_value,v_0,kappa,theta,volvol,rho)"
      ],
      "metadata": {
        "id": "GodrIow9BvKL"
      },
      "execution_count": null,
      "outputs": []
    },
    {
      "cell_type": "code",
      "source": [
        "call_payoff = ql.PlainVanillaPayoff(ql.Option.Call, strike) \n",
        "call_exercise = ql.EuropeanExercise(maturity)\n",
        "option = ql.VanillaOption(call_payoff, call_exercise)\n",
        "engine = ql.AnalyticHestonEngine(ql.HestonModel(heston_process),0.001,1000)\n",
        "option.setPricingEngine(engine)\n",
        "price = option.NPV()\n",
        "print (\"option_price\", round(price,2))"
      ],
      "metadata": {
        "colab": {
          "base_uri": "https://localhost:8080/"
        },
        "id": "Pz2S8S6BDR7F",
        "outputId": "a505564b-2c67-4a4e-c55a-a92f8c3317d8"
      },
      "execution_count": null,
      "outputs": [
        {
          "output_type": "stream",
          "name": "stdout",
          "text": [
            "option_price 354.64\n"
          ]
        }
      ]
    }
  ]
}