{
  "nbformat": 4,
  "nbformat_minor": 0,
  "metadata": {
    "colab": {
      "provenance": [],
      "include_colab_link": true
    },
    "kernelspec": {
      "name": "python3",
      "display_name": "Python 3"
    },
    "language_info": {
      "name": "python"
    }
  },
  "cells": [
    {
      "cell_type": "markdown",
      "metadata": {
        "id": "view-in-github",
        "colab_type": "text"
      },
      "source": [
        "<a href=\"https://colab.research.google.com/github/danielbauer1979/FI830/blob/main/FI830_HW8_S24.ipynb\" target=\"_parent\"><img src=\"https://colab.research.google.com/assets/colab-badge.svg\" alt=\"Open In Colab\"/></a>"
      ]
    },
    {
      "cell_type": "code",
      "execution_count": 1,
      "metadata": {
        "id": "d2QkMOtcKfAd"
      },
      "outputs": [],
      "source": [
        "import numpy as np\n",
        "import scipy.stats as st\n",
        "from scipy.optimize import newton\n",
        "from tqdm import tqdm"
      ]
    },
    {
      "cell_type": "markdown",
      "source": [
        "# Interest Rate Derivatives\n",
        "\n",
        "Assume the Vasicek model:\n",
        "\n",
        "$$\n",
        "dr_t=\\alpha(\\beta-r_t)dt+\\gamma\\,dW_t\n",
        "$$\n",
        "\n",
        "with (risk-neutral) parameters $\\alpha=0.3,\\ \\beta=4\\%,\\ \\gamma=0.02,$ and $r_0=5.4\\%$ reflecting the relevant yield curve."
      ],
      "metadata": {
        "id": "qopB0fN5R2_z"
      }
    },
    {
      "cell_type": "code",
      "source": [
        "# Parameters\n",
        "alpha = 0.3; beta = 0.04; gamma = 0.02; r0 = 0.054\n",
        "T = 5; n_coup = 10 # number of coupons/interests is 10 since paid semi-annually"
      ],
      "metadata": {
        "id": "XFWzCR_dSFuy"
      },
      "execution_count": 2,
      "outputs": []
    },
    {
      "cell_type": "markdown",
      "source": [
        "## (a) Five-year Treasury Note\n",
        "Under a constant yield curve, the yield of a 5-year T-note is a constant, $y$, such that\n",
        "$$\n",
        "\\sum_{k=1}^{10} \\frac{y}{2}\\,e^{-rk/2}+e^{-5r} = 1\n",
        "$$"
      ],
      "metadata": {
        "id": "Ranwp3SuZ1zV"
      }
    },
    {
      "cell_type": "code",
      "source": [
        "def pv_coupon(y,r,T,n): # note that here y is the semiannual yield\n",
        "  val = 0\n",
        "  for k in range(1,n+1):\n",
        "    val += y*np.exp(-r*k*(T/n))\n",
        "  return val\n",
        "\n",
        "yield_const_semi = newton(lambda y: pv_coupon(y,r0,T,n_coup)+np.exp(-T*r0)-1,0.05)\n",
        "yield_const_ann = yield_const_semi*2\n",
        "yield_const_ann"
      ],
      "metadata": {
        "colab": {
          "base_uri": "https://localhost:8080/"
        },
        "id": "qVeHGzeSSVbo",
        "outputId": "03039f37-d9bb-405a-c8ce-5dffef6b061d"
      },
      "execution_count": 3,
      "outputs": [
        {
          "output_type": "execute_result",
          "data": {
            "text/plain": [
              "0.05473560552697876"
            ]
          },
          "metadata": {},
          "execution_count": 3
        }
      ]
    },
    {
      "cell_type": "markdown",
      "source": [
        "Under the Vasicek model, the price of a coupon-paying bond with face value $F$ and maturity $T$ at time $t$ is\n",
        "$$\n",
        "P_c(F,t,T) = F*P_0(t,T) + \\sum_{k=1}^n\\,C_kP_0(t,T_k),\n",
        "$$\n",
        "where $P_0(t,T)$ is the price of a zero-coupon bond paying $1$ at maturity $T.$\n",
        "\n",
        "We have\n",
        "$$\n",
        "P_0(t,T) = A(t,T)e^{-r_t B(t,T)}\n",
        "$$\n",
        "\n",
        "where\n",
        "$$\n",
        "B(t,T) = \\frac{1-e^{-\\alpha(T-t)}}{\\alpha}\n",
        "$$\n",
        "and\n",
        "$$\n",
        "A(t,T) = \\text{exp}\\left\\{\\left(\\beta-\\frac{\\gamma^2}{2\\alpha^2}\\right)\\left(B(t,T)-(T-t)\\right)-\\frac{\\gamma^2}{4\\alpha}B^2(t,T)\\right\\}\n",
        "$$"
      ],
      "metadata": {
        "id": "ItMFxc_DdCXr"
      }
    },
    {
      "cell_type": "code",
      "source": [
        "def P0_Vasicek(rt,t,T):\n",
        "  B_t_T = (1-np.exp(-alpha*(T-t)))/alpha\n",
        "  A_t_T = np.exp((beta-gamma**2/(2*alpha**2))*(B_t_T-(T-t))-(gamma**2/(4*alpha))*B_t_T**2)\n",
        "  return A_t_T*np.exp(-rt*B_t_T)\n",
        "\n",
        "def Pc_Vasicek(F,rt,y,t,T,n): # here C_k=F*y and y is again semiannual yield\n",
        "  val = 0\n",
        "  for k in range(1+int(t*n/T),n+1):\n",
        "    val += F*y*P0_Vasicek(rt,t,k*T/n)\n",
        "  return val + F*P0_Vasicek(rt,t,T)"
      ],
      "metadata": {
        "id": "vVw4D11Kc1D6"
      },
      "execution_count": 4,
      "outputs": []
    },
    {
      "cell_type": "code",
      "source": [
        "yield_vasicek = newton(lambda y: Pc_Vasicek(1,r0,y,0,T,n_coup)-1,0.05) # WLOG, let F=1\n",
        "yield_vasicek*2"
      ],
      "metadata": {
        "colab": {
          "base_uri": "https://localhost:8080/"
        },
        "id": "pByN21iGfISi",
        "outputId": "a318ba09-5662-4364-a400-a652d0a92b75"
      },
      "execution_count": 5,
      "outputs": [
        {
          "output_type": "execute_result",
          "data": {
            "text/plain": [
              "0.04741123923398437"
            ]
          },
          "metadata": {},
          "execution_count": 5
        }
      ]
    },
    {
      "cell_type": "markdown",
      "source": [
        "## (b)1-Year Forward Contract on the 5-Year T-Note\n",
        "We use Monte Carlo simulation to get interest rate in one year. Let $h$ be the step size. An Euler discretization gives\n",
        "$$\n",
        "\\begin{align*}\n",
        "r_{t+1} &= r_t + \\Delta r_t \\\\\n",
        "&= r_t + \\alpha(\\beta-r_t)h+\\gamma(W_{t+1}-W_t) \\\\\n",
        "&= r_t + \\alpha(\\beta-r_t)h+\\gamma\\sqrt{h}Z_{t}\n",
        "\\end{align*}\n",
        "$$\n",
        "where $Z_{t}\\sim N(0,1).$"
      ],
      "metadata": {
        "id": "humXo2vTiwsj"
      }
    },
    {
      "cell_type": "code",
      "source": [
        "# need to know r_1\n",
        "F = 100000; T_frwd = 1; N = 10000; h = 0.001\n",
        "np.random.seed(12)\n",
        "prices = [0] * N\n",
        "for n in tqdm(range(N)):\n",
        "  k = int(T_frwd/h+1)\n",
        "  r_t = [r0] * k\n",
        "  Z = np.random.normal(0,1,k-1)\n",
        "  for i in range(1,k):\n",
        "    r_t[i] = r_t[i-1] + alpha*(beta-r_t[i-1])*h + gamma*np.sqrt(h)*Z[i-1]\n",
        "  prices[n] = Pc_Vasicek(F,r_t[-1],yield_vasicek,T_frwd,T,n_coup)\n",
        "forward_p = np.average(prices)\n",
        "forward_p # value of the 5-year T-note in one year"
      ],
      "metadata": {
        "id": "PPkGfgpQhR1t",
        "colab": {
          "base_uri": "https://localhost:8080/"
        },
        "outputId": "cb30ec46-413a-4bd6-aa3b-eb65d902f5a5"
      },
      "execution_count": 6,
      "outputs": [
        {
          "output_type": "stream",
          "name": "stderr",
          "text": [
            "100%|██████████| 10000/10000 [00:38<00:00, 262.93it/s]\n"
          ]
        },
        {
          "output_type": "execute_result",
          "data": {
            "text/plain": [
              "100515.10344149271"
            ]
          },
          "metadata": {},
          "execution_count": 6
        }
      ]
    },
    {
      "cell_type": "markdown",
      "source": [
        "$\\text{Forward price} = \\text{Spot price} + \\text{Cost of Carry}.$ More precisely,\n",
        "\\begin{align*}\n",
        "F(t,T_{frwd}) = (P_c(F,t,T_{bond}) - P_c(F,t,T_{frwd}) + F*P_0(t,T_{frwd}))\\ e^{\\int_t^{T_{frwd}}r_t\\,dt}\n",
        "\\end{align*}"
      ],
      "metadata": {
        "id": "ZFectGUq4NDl"
      }
    },
    {
      "cell_type": "code",
      "source": [
        "# verify if the value of the 5-year T-note in one year equals the price from the equation\n",
        "F = 100000; T_frwd = 1; N = 10000; h = 0.001\n",
        "np.random.seed(12)\n",
        "prices = [0] * N; prices2 = [0] * N; prices3 = [0] * N\n",
        "for n in tqdm(range(N)):\n",
        "  k = int(T_frwd/h+1)\n",
        "  r_t = [r0] * k\n",
        "  Z = np.random.normal(0,1,k-1)\n",
        "  for i in range(1,k):\n",
        "    r_t[i] = r_t[i-1] + alpha*(beta-r_t[i-1])*h + gamma*np.sqrt(h)*Z[i-1]\n",
        "  r_hat = (0.5*r_t[0] + sum(r_t[1:-1]) + 0.5*r_t[-1]) * h\n",
        "  r_hat2 = (0.5*r_t[int(T_frwd/2/h)]+sum(r_t[int(T_frwd/2/h+1):-1])+0.5*r_t[-1]) * h\n",
        "  prices[n] = Pc_Vasicek(F,r_t[-1],yield_vasicek,T_frwd,T,n_coup)\n",
        "  prices2[n] = (Pc_Vasicek(F,r0,yield_vasicek,0,T,n_coup)-Pc_Vasicek(F,r0,yield_vasicek,0,T_frwd,T_frwd*2)+F*P0_Vasicek(r0,0,T_frwd))*np.exp(r_hat)\n",
        "  prices3[n] = Pc_Vasicek(F,r0,yield_vasicek,0,T,n_coup)*np.exp(r_hat) - F*yield_vasicek - F*yield_vasicek*np.exp(r_hat2)\n",
        "np.average(prices), np.average(prices2), np.average(prices3) # all similar"
      ],
      "metadata": {
        "colab": {
          "base_uri": "https://localhost:8080/"
        },
        "id": "J64N890I5nkb",
        "outputId": "582a3e25-10ab-4e77-c5a3-555b8a5dad07"
      },
      "execution_count": 7,
      "outputs": [
        {
          "output_type": "stream",
          "name": "stderr",
          "text": [
            "100%|██████████| 10000/10000 [00:29<00:00, 335.47it/s]\n"
          ]
        },
        {
          "output_type": "execute_result",
          "data": {
            "text/plain": [
              "(100515.10344149271, 100541.78171189192, 100541.82501118038)"
            ]
          },
          "metadata": {},
          "execution_count": 7
        }
      ]
    },
    {
      "cell_type": "markdown",
      "source": [
        "## (c) European Call on the 5-Year T-Note Expiring in 1 Year\n",
        "The value (at time $t$) of a European Call option on an $S$-year T-note with an option maturity of $T$ years and strike price of $K$ is\n",
        "$$\n",
        "e^{-\\int_t^T r_s\\,ds}\\text{max}\\{P_c(F,T,S)-K,0\\}\n",
        "$$"
      ],
      "metadata": {
        "id": "gabxJSqUml0p"
      }
    },
    {
      "cell_type": "code",
      "source": [
        "K = forward_p; T_call = 1"
      ],
      "metadata": {
        "id": "3cII60Hqm20W"
      },
      "execution_count": 8,
      "outputs": []
    },
    {
      "cell_type": "code",
      "source": [
        "def MCVesicekCall(F,K,Tc,Tb,n_coup,h,N):\n",
        "  np.random.seed(12)\n",
        "  callP = [0] * N\n",
        "  k = int(Tc/h+1)\n",
        "  for n in range(N):\n",
        "    r_t = [r0] * k\n",
        "    Z = np.random.normal(0,1,k-1)\n",
        "    for i in range(1,k):\n",
        "      r_t[i] = r_t[i-1] + alpha*(beta-r_t[i-1])*h + gamma*np.sqrt(h)*Z[i-1]\n",
        "    r_hat = (0.5*r_t[0] + sum(r_t[1:-1]) + 0.5*r_t[-1]) * h\n",
        "    bondP = Pc_Vasicek(F,r_t[-1],yield_vasicek,Tc,Tb,n_coup)\n",
        "    callP[n] = max(bondP-K,0) * np.exp(-r_hat)\n",
        "  return np.average(callP), np.std(callP)"
      ],
      "metadata": {
        "id": "ODhsqAQinIXl"
      },
      "execution_count": 9,
      "outputs": []
    },
    {
      "cell_type": "code",
      "source": [
        "N = 10000; h = 0.001\n",
        "C0 = MCVesicekCall(F,K,T_call,T,n_coup,h,N)[0]\n",
        "print(\"The Bond option price is $%.3f.\" % C0)"
      ],
      "metadata": {
        "colab": {
          "base_uri": "https://localhost:8080/"
        },
        "id": "63vHfLRirq0v",
        "outputId": "62da70ed-cd75-4e16-db10-0deaecf03df9"
      },
      "execution_count": 10,
      "outputs": [
        {
          "output_type": "stream",
          "name": "stdout",
          "text": [
            "The Bond option price is $1449.242.\n"
          ]
        }
      ]
    },
    {
      "cell_type": "code",
      "source": [
        "# 95% CI\n",
        "C0_est, C0_std = MCVesicekCall(F,K,T_call,T,n_coup,h,N)\n",
        "C0_lb, C0_ub = C0_est-st.norm.ppf(0.975)*C0_std/np.sqrt(N), C0_est+st.norm.ppf(0.975)*C0_std/np.sqrt(N)\n",
        "(C0_lb,C0_ub)"
      ],
      "metadata": {
        "colab": {
          "base_uri": "https://localhost:8080/"
        },
        "id": "mgBr38_Er1HN",
        "outputId": "1b605688-1220-4d6e-d4e7-316614ac8cf0"
      },
      "execution_count": 11,
      "outputs": [
        {
          "output_type": "execute_result",
          "data": {
            "text/plain": [
              "(1406.4129793566324, 1492.071147822547)"
            ]
          },
          "metadata": {},
          "execution_count": 11
        }
      ]
    },
    {
      "cell_type": "code",
      "source": [
        "C0_std"
      ],
      "metadata": {
        "id": "3jd4yvl1ug44",
        "colab": {
          "base_uri": "https://localhost:8080/"
        },
        "outputId": "332032c7-86d8-4759-d80c-ea90b773084a"
      },
      "execution_count": 12,
      "outputs": [
        {
          "output_type": "execute_result",
          "data": {
            "text/plain": [
              "2185.1975123414327"
            ]
          },
          "metadata": {},
          "execution_count": 12
        }
      ]
    }
  ]
}