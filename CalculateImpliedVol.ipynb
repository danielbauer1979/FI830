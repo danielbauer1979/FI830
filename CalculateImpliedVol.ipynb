{
  "nbformat": 4,
  "nbformat_minor": 0,
  "metadata": {
    "colab": {
      "name": "CalculateImpliedVol.ipynb",
      "provenance": [],
      "collapsed_sections": [],
      "authorship_tag": "ABX9TyMXVHQElG+XNE5puwxDvMy2",
      "include_colab_link": true
    },
    "kernelspec": {
      "name": "python3",
      "display_name": "Python 3"
    },
    "language_info": {
      "name": "python"
    }
  },
  "cells": [
    {
      "cell_type": "markdown",
      "metadata": {
        "id": "view-in-github",
        "colab_type": "text"
      },
      "source": [
        "<a href=\"https://colab.research.google.com/github/danielbauer1979/FI830/blob/main/CalculateImpliedVol.ipynb\" target=\"_parent\"><img src=\"https://colab.research.google.com/assets/colab-badge.svg\" alt=\"Open In Colab\"/></a>"
      ]
    },
    {
      "cell_type": "markdown",
      "source": [
        "**Monte Carlo Pricing in the Heston Model**"
      ],
      "metadata": {
        "id": "OzIM-BL4R-JE"
      }
    },
    {
      "cell_type": "markdown",
      "source": [
        "This codebook shows how to use Monte Carlo to derive option prices in the Heston and Christoffersen Et al. models. "
      ],
      "metadata": {
        "id": "c1s2rh9SSG_L"
      }
    },
    {
      "cell_type": "code",
      "source": [
        "import pandas as pd\n",
        "import numpy as np\n",
        "from scipy.stats import norm\n",
        "from scipy.optimize import fsolve"
      ],
      "metadata": {
        "id": "AM7L3i1j_M1X"
      },
      "execution_count": 2,
      "outputs": []
    },
    {
      "cell_type": "code",
      "source": [
        "def BSCall(r_loc,sigma_loc,T_loc,S_loc,K_loc):\n",
        "  d1 = (np.log(S_loc/K_loc) + (r_loc + sigma_loc*sigma_loc)*T_loc)/(sigma_loc * np.sqrt(T_loc))\n",
        "  d2 = d1 - sigma_loc * np.sqrt(T_loc)\n",
        "  return(S_loc * norm.cdf(d1) - K_loc * np.exp(-r_loc * T_loc) * norm.cdf(d2))\n",
        "BSCall(0.02,0.1963,1,4500,4500)"
      ],
      "metadata": {
        "colab": {
          "base_uri": "https://localhost:8080/"
        },
        "id": "tTGRuXsh2U9e",
        "outputId": "9da27298-afeb-441c-ff88-cdbdf923569e"
      },
      "execution_count": 6,
      "outputs": [
        {
          "output_type": "execute_result",
          "data": {
            "text/plain": [
              "393.0620251582982"
            ]
          },
          "metadata": {},
          "execution_count": 6
        }
      ]
    },
    {
      "cell_type": "code",
      "source": [
        "BSP = lambda sig: BSCall(0.02,sig,1,4500,4500) - 400\n",
        "BSP(0.2)"
      ],
      "metadata": {
        "colab": {
          "base_uri": "https://localhost:8080/"
        },
        "id": "4wkto_1l5RD3",
        "outputId": "d8f2e473-4174-4eeb-e02a-3416bf5a004d"
      },
      "execution_count": 7,
      "outputs": [
        {
          "output_type": "execute_result",
          "data": {
            "text/plain": [
              "-0.5219847582070543"
            ]
          },
          "metadata": {},
          "execution_count": 7
        }
      ]
    },
    {
      "cell_type": "code",
      "source": [
        "implied_vol = fsolve(BSP, 0.1963)\n",
        "print(implied_vol)"
      ],
      "metadata": {
        "colab": {
          "base_uri": "https://localhost:8080/"
        },
        "id": "-RMcZzWnP9gU",
        "outputId": "024214ed-fae3-4881-a616-e92f192db77a"
      },
      "execution_count": 8,
      "outputs": [
        {
          "output_type": "stream",
          "name": "stdout",
          "text": [
            "[0.20030111]\n"
          ]
        }
      ]
    }
  ]
}