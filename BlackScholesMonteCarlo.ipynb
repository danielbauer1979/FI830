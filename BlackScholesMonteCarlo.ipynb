{
  "nbformat": 4,
  "nbformat_minor": 0,
  "metadata": {
    "colab": {
      "provenance": [],
      "authorship_tag": "ABX9TyMwjkAKL7kYe2ugKsy3tdar",
      "include_colab_link": true
    },
    "kernelspec": {
      "name": "python3",
      "display_name": "Python 3"
    },
    "language_info": {
      "name": "python"
    }
  },
  "cells": [
    {
      "cell_type": "markdown",
      "metadata": {
        "id": "view-in-github",
        "colab_type": "text"
      },
      "source": [
        "<a href=\"https://colab.research.google.com/github/danielbauer1979/FI830/blob/main/BlackScholesMonteCarlo.ipynb\" target=\"_parent\"><img src=\"https://colab.research.google.com/assets/colab-badge.svg\" alt=\"Open In Colab\"/></a>"
      ]
    },
    {
      "cell_type": "markdown",
      "source": [
        "**Monte Carlo Pricing in the Black Scholes Model**"
      ],
      "metadata": {
        "id": "OzIM-BL4R-JE"
      }
    },
    {
      "cell_type": "markdown",
      "source": [
        "This codebook shows how to use Monte Carlo to derive option prices in the Black-Scholes model. We will revisit the problems from the previous homeworks."
      ],
      "metadata": {
        "id": "c1s2rh9SSG_L"
      }
    },
    {
      "cell_type": "markdown",
      "source": [
        "Again, we have to pull ib functionality from libraries. The most common ones for us are [pandas](https://pandas.pydata.org/), the data analysis library and math and [numpy](https://numpy.org/), which are mathematical libraries. And of course we have to import Quantlib, which we just installed (many packages such as pandas and numpy are natively installed in the Colab environment)."
      ],
      "metadata": {
        "id": "toZmgnYWTAH1"
      }
    },
    {
      "cell_type": "code",
      "source": [
        "import pandas as pd\n",
        "import numpy as np"
      ],
      "metadata": {
        "id": "AM7L3i1j_M1X"
      },
      "execution_count": null,
      "outputs": []
    },
    {
      "cell_type": "markdown",
      "source": [
        "Let's grab the parameters from Homework 5-2"
      ],
      "metadata": {
        "id": "o89aGVf9T4WI"
      }
    },
    {
      "cell_type": "code",
      "source": [
        "S_0 = 3714.24\n",
        "K = 3714.24\n",
        "sigma = 0.165\n",
        "r = 0.001\n",
        "T = 1"
      ],
      "metadata": {
        "id": "T2WdXSq4_cjE"
      },
      "execution_count": null,
      "outputs": []
    },
    {
      "cell_type": "markdown",
      "source": [
        "And let's calculate a Monte Carlo price for a European Call"
      ],
      "metadata": {
        "id": "EGG_WG1PIINK"
      }
    },
    {
      "cell_type": "code",
      "source": [
        "np.random.seed(42)\n",
        "normals = np.random.randn(10000)\n",
        "S = S_0 * np.exp((r-0.5 * sigma * sigma) * T * np.ones(10000) + np.sqrt(T) * sigma * normals)\n",
        "Payoff = np.zeros(10000)\n",
        "for i in range(10000):\n",
        "  Payoff[i] = np.max([K-S[i],0])\n",
        "Price = np.exp(-r*T) * Payoff.mean()\n",
        "print(Price)"
      ],
      "metadata": {
        "id": "I1U7Tx5UAuqR",
        "colab": {
          "base_uri": "https://localhost:8080/"
        },
        "outputId": "f3d02125-8254-4f65-ae7d-96e2cef77083"
      },
      "execution_count": null,
      "outputs": [
        {
          "output_type": "stream",
          "name": "stdout",
          "text": [
            "243.22781286497388\n"
          ]
        }
      ]
    },
    {
      "cell_type": "markdown",
      "source": [
        "Similarly, let's calculate the Asian option price from part 5-3. Here we have to simulate the stock price across the entire year."
      ],
      "metadata": {
        "id": "wmTAHsO7QRIW"
      }
    },
    {
      "cell_type": "code",
      "source": [
        "numbdays = 256\n",
        "np.random.seed(42)\n",
        "pricepaths = np.zeros((10000,numbdays+1))\n",
        "for i in range(10000):\n",
        "  pricepaths[i,0] = S_0\n",
        "  for t in range (numbdays):\n",
        "    pricepaths[i,t+1] = pricepaths[i,t] * np.exp((r-0.5 * sigma * sigma) * T/numbdays + np.sqrt(T/numbdays) * sigma * np.random.randn(1))\n",
        "pathaverages = np.mean(pricepaths,axis=1)\n",
        "for i in range(10000):\n",
        "  Payoff[i] = np.max([K-pathaverages[i],0])\n",
        "Price2 = np.exp(-r*T) * Payoff.mean()\n",
        "print(Price2)"
      ],
      "metadata": {
        "colab": {
          "base_uri": "https://localhost:8080/"
        },
        "id": "vF8PyGb0Q4Fp",
        "outputId": "52f413b9-1e74-49c9-84cd-2ceb9c87ca1a"
      },
      "execution_count": null,
      "outputs": [
        {
          "output_type": "stream",
          "name": "stdout",
          "text": [
            "138.61164979041922\n"
          ]
        }
      ]
    },
    {
      "cell_type": "markdown",
      "source": [
        "Let's try two stocks. Again, let's collect the parameters:"
      ],
      "metadata": {
        "id": "tWnW2GxaTmu2"
      }
    },
    {
      "cell_type": "code",
      "source": [
        "sigma1 = 0.3095\n",
        "sigma2 = 0.2993\n",
        "rho = 0.7094\n",
        "r = 0.02\n",
        "T = 1\n",
        "q1 = 1.00\n",
        "q2 = 2.65\n",
        "numbdays = 252\n",
        "S01 = 40.68\n",
        "S02 = 15.42"
      ],
      "metadata": {
        "id": "eZWOYCjMUOcZ"
      },
      "execution_count": null,
      "outputs": []
    },
    {
      "cell_type": "markdown",
      "source": [
        "Let's take two approaches. First, let's do it in one shot. Let's generate correlated normals."
      ],
      "metadata": {
        "id": "AT0GNRN9XO75"
      }
    },
    {
      "cell_type": "code",
      "source": [
        "np.random.seed(42)\n",
        "normals1 = np.random.randn(10000)\n",
        "normalsHelp = np.random.randn(10000)\n",
        "normals2 = rho * normals1 + np.sqrt(1 - rho * rho) * normalsHelp\n",
        "S1 = S01 * np.exp((r-0.5 * sigma1 * sigma1) * T * np.ones(10000) + np.sqrt(T) * sigma1 * normals1)\n",
        "S2 = S02 * np.exp((r-0.5 * sigma2 * sigma2) * T * np.ones(10000) + np.sqrt(T) * sigma2 * normals2)\n",
        "Payoff = np.zeros(10000)\n",
        "for i in range(10000):\n",
        "  Payoff[i] = np.max([q1*S1[i],q2*S2[i]])\n",
        "Price = np.exp(-r*T) * Payoff.mean()\n",
        "print(Price)"
      ],
      "metadata": {
        "colab": {
          "base_uri": "https://localhost:8080/"
        },
        "id": "bG7VlrR7XMrG",
        "outputId": "454e34a0-aa8b-4980-c168-01520745ba74"
      },
      "execution_count": null,
      "outputs": [
        {
          "output_type": "stream",
          "name": "stdout",
          "text": [
            "44.59813646198227\n"
          ]
        }
      ]
    },
    {
      "cell_type": "markdown",
      "source": [
        "Then, let's simulate the entire paths similar to above:"
      ],
      "metadata": {
        "id": "z1hLNfc2gc7m"
      }
    },
    {
      "cell_type": "code",
      "source": [
        "numbdays = 256\n",
        "np.random.seed(42)\n",
        "pricepaths1 = np.zeros((10000,numbdays+1))\n",
        "pricepaths2 = np.zeros((10000,numbdays+1))\n",
        "for i in range(10000):\n",
        "  pricepaths1[i,0] = S01\n",
        "  pricepaths2[i,0] = S02\n",
        "  for t in range (numbdays):\n",
        "    normal1 = np.random.randn(1)\n",
        "    normalHelp = np.random.randn(1)\n",
        "    normal2 = rho * normal1 + np.sqrt(1 - rho * rho) * normalHelp\n",
        "    pricepaths1[i,t+1] = pricepaths1[i,t] * np.exp((r-0.5 * sigma1 * sigma1) * T/numbdays + np.sqrt(T/numbdays) * sigma1 * normal1)\n",
        "    pricepaths2[i,t+1] = pricepaths2[i,t] * np.exp((r-0.5 * sigma2 * sigma2) * T/numbdays + np.sqrt(T/numbdays) * sigma2 * normal2)\n",
        "  Payoff[i] = np.max([q1*pricepaths1[i,numbdays],q2*pricepaths2[i,numbdays]])\n",
        "Price = np.exp(-r*T) * Payoff.mean()\n",
        "print(Price)"
      ],
      "metadata": {
        "colab": {
          "base_uri": "https://localhost:8080/"
        },
        "id": "egkz-ClMZbsA",
        "outputId": "9fe640d5-4b74-45a2-bc9e-ddd8f13db9ea"
      },
      "execution_count": null,
      "outputs": [
        {
          "output_type": "stream",
          "name": "stdout",
          "text": [
            "44.39814898986675\n"
          ]
        }
      ]
    }
  ]
}